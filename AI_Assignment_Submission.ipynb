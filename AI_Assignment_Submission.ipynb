{
 "cells": [
  {
   "cell_type": "markdown",
   "metadata": {},
   "source": [
    "# AI Research Assitant Assignment\n",
    "\n",
    "* Name: Charlie (Chang Ki) Kang\n",
    "* Major: MS in Computer Science (Expected Graduation Spring 2020)"
   ]
  },
  {
   "cell_type": "markdown",
   "metadata": {},
   "source": [
    "# Jupyter notebook outline\n",
    "\n",
    "* 1) Import necessary packages and libraries\n",
    "* 2) Objective\n",
    "* 3) Data import and conversion to numpy and dataframe objects\n",
    "* 4) Exploratory data analysis\n",
    "* 5) Data split and scaling\n",
    "* 6) Model selection and model tuning\n",
    "* 7) Result analysis and feature importance\n",
    "* 8) Conclusion and acknowledgment"
   ]
  },
  {
   "cell_type": "markdown",
   "metadata": {},
   "source": [
    "## 1) Import necessary packages and libraries\n",
    "\n",
    "Pretty self explanatory. \n",
    "\n",
    "- numpy and pandas for data preprocessing\n",
    "- matplotlib and seaborn for visualizing data\n",
    "- sklearn model_selection for preprocessing and cross validation\n",
    "- sklearn metrics for confusion matrix and roc curve\n",
    "- rest are ML algorithms used"
   ]
  },
  {
   "cell_type": "code",
   "execution_count": 1,
   "metadata": {},
   "outputs": [],
   "source": [
    "import numpy as np\n",
    "import pandas as pd\n",
    "import matplotlib.pyplot as plt\n",
    "import seaborn as sns\n",
    "\n",
    "from sklearn.model_selection import train_test_split, cross_val_score, KFold, StratifiedKFold, GridSearchCV\n",
    "from sklearn.metrics import classification_report, confusion_matrix, roc_curve, accuracy_score, log_loss\n",
    "from sklearn.preprocessing import StandardScaler\n",
    "\n",
    "from sklearn.linear_model import LogisticRegression\n",
    "from sklearn.naive_bayes import GaussianNB\n",
    "from sklearn.tree import DecisionTreeClassifier\n",
    "from sklearn.ensemble import RandomForestClassifier, ExtraTreesClassifier, BaggingClassifier\n",
    "\n",
    "import xgboost\n",
    "\n",
    "\"\"\"This import is used to force ignore all deprecation warnings\"\"\"\n",
    "import warnings\n",
    "warnings.filterwarnings(\"ignore\")"
   ]
  },
  {
   "cell_type": "markdown",
   "metadata": {},
   "source": [
    "## 2) Objective\n",
    "\n",
    "The data presented here is from UC Irvine's spam data. The data is a processed version of  spam/not spam dataset. First 54 features represent the percentage of occurences of words/chracters in a given email. No specific details as to what the words or characters each feature represents is unknown. Next three features correspond to average, longest and total number of capitalized letters in a given email.\n",
    "\n",
    "The problem is a simple binary classificatino problem where 1 represents spam and 0 represent non-spam.\n",
    "\n",
    "Source: http://archive.ics.uci.edu/ml/datasets/Spambase"
   ]
  },
  {
   "cell_type": "markdown",
   "metadata": {},
   "source": [
    "## 3) Data import and conversion to numpy and dataframe\n",
    "\n",
    "The data is first read and converted to both dataframe and numpy objects. DataFrame is used for visualizing some basic statistics and numpy object is fed into moels as input."
   ]
  },
  {
   "cell_type": "code",
   "execution_count": 2,
   "metadata": {},
   "outputs": [],
   "source": [
    "with open(\"spambase.data\", \"r\") as f:\n",
    "    content = f.readlines()"
   ]
  },
  {
   "cell_type": "code",
   "execution_count": 3,
   "metadata": {},
   "outputs": [],
   "source": [
    "\"\"\"First need to convert the data into a numpy array\"\"\"\n",
    "data_array = []\n",
    "for i in range(len(content)):\n",
    "    row = list(map(float, content[i].split(',')))\n",
    "    data_array.append(row)"
   ]
  },
  {
   "cell_type": "code",
   "execution_count": 4,
   "metadata": {},
   "outputs": [],
   "source": [
    "\"\"\"Convert the array into numpy and dataframe objects\"\"\"\n",
    "data_array_np = np.array(data_array)\n",
    "data_array_df = pd.DataFrame(data_array_np)"
   ]
  },
  {
   "cell_type": "markdown",
   "metadata": {},
   "source": [
    "## 4) Exploratory data analysis (EDA)\n",
    "\n",
    "EDA mainly consists of two parts: first part utilizes DataFrame's .describe() method to observe basic statistics numerically; second part consists of using Seaborn's distplot to see how the distribution of each features look like and compare the results to the DataFrame results."
   ]
  },
  {
   "cell_type": "markdown",
   "metadata": {},
   "source": [
    "### 4-1) Making sure the data doesn't contain any NaN or missing values"
   ]
  },
  {
   "cell_type": "code",
   "execution_count": 5,
   "metadata": {},
   "outputs": [
    {
     "name": "stdout",
     "output_type": "stream",
     "text": [
      "Series([], dtype: int64)\n"
     ]
    }
   ],
   "source": [
    "\"\"\"Find out if there are any null/NA values in the data\"\"\"\n",
    "data_missing = data_array_df.isnull().sum()\n",
    "data_missing_filtered = data_missing[data_missing > 0]\n",
    "print(data_missing_filtered)"
   ]
  },
  {
   "cell_type": "markdown",
   "metadata": {},
   "source": [
    "### 4-2) Descriptive Statistics using describe() method built into Pandas"
   ]
  },
  {
   "cell_type": "code",
   "execution_count": 6,
   "metadata": {},
   "outputs": [
    {
     "data": {
      "text/html": [
       "<div>\n",
       "<style scoped>\n",
       "    .dataframe tbody tr th:only-of-type {\n",
       "        vertical-align: middle;\n",
       "    }\n",
       "\n",
       "    .dataframe tbody tr th {\n",
       "        vertical-align: top;\n",
       "    }\n",
       "\n",
       "    .dataframe thead th {\n",
       "        text-align: right;\n",
       "    }\n",
       "</style>\n",
       "<table border=\"1\" class=\"dataframe\">\n",
       "  <thead>\n",
       "    <tr style=\"text-align: right;\">\n",
       "      <th></th>\n",
       "      <th>0</th>\n",
       "      <th>1</th>\n",
       "      <th>2</th>\n",
       "      <th>3</th>\n",
       "      <th>4</th>\n",
       "      <th>5</th>\n",
       "      <th>6</th>\n",
       "      <th>7</th>\n",
       "      <th>8</th>\n",
       "      <th>9</th>\n",
       "      <th>10</th>\n",
       "    </tr>\n",
       "  </thead>\n",
       "  <tbody>\n",
       "    <tr>\n",
       "      <th>count</th>\n",
       "      <td>4601.000000</td>\n",
       "      <td>4601.000000</td>\n",
       "      <td>4601.000000</td>\n",
       "      <td>4601.000000</td>\n",
       "      <td>4601.000000</td>\n",
       "      <td>4601.000000</td>\n",
       "      <td>4601.000000</td>\n",
       "      <td>4601.000000</td>\n",
       "      <td>4601.000000</td>\n",
       "      <td>4601.000000</td>\n",
       "      <td>4601.000000</td>\n",
       "    </tr>\n",
       "    <tr>\n",
       "      <th>mean</th>\n",
       "      <td>0.104553</td>\n",
       "      <td>0.213015</td>\n",
       "      <td>0.280656</td>\n",
       "      <td>0.065425</td>\n",
       "      <td>0.312223</td>\n",
       "      <td>0.095901</td>\n",
       "      <td>0.114208</td>\n",
       "      <td>0.105295</td>\n",
       "      <td>0.090067</td>\n",
       "      <td>0.239413</td>\n",
       "      <td>0.059824</td>\n",
       "    </tr>\n",
       "    <tr>\n",
       "      <th>std</th>\n",
       "      <td>0.305358</td>\n",
       "      <td>1.290575</td>\n",
       "      <td>0.504143</td>\n",
       "      <td>1.395151</td>\n",
       "      <td>0.672513</td>\n",
       "      <td>0.273824</td>\n",
       "      <td>0.391441</td>\n",
       "      <td>0.401071</td>\n",
       "      <td>0.278616</td>\n",
       "      <td>0.644755</td>\n",
       "      <td>0.201545</td>\n",
       "    </tr>\n",
       "    <tr>\n",
       "      <th>min</th>\n",
       "      <td>0.000000</td>\n",
       "      <td>0.000000</td>\n",
       "      <td>0.000000</td>\n",
       "      <td>0.000000</td>\n",
       "      <td>0.000000</td>\n",
       "      <td>0.000000</td>\n",
       "      <td>0.000000</td>\n",
       "      <td>0.000000</td>\n",
       "      <td>0.000000</td>\n",
       "      <td>0.000000</td>\n",
       "      <td>0.000000</td>\n",
       "    </tr>\n",
       "    <tr>\n",
       "      <th>25%</th>\n",
       "      <td>0.000000</td>\n",
       "      <td>0.000000</td>\n",
       "      <td>0.000000</td>\n",
       "      <td>0.000000</td>\n",
       "      <td>0.000000</td>\n",
       "      <td>0.000000</td>\n",
       "      <td>0.000000</td>\n",
       "      <td>0.000000</td>\n",
       "      <td>0.000000</td>\n",
       "      <td>0.000000</td>\n",
       "      <td>0.000000</td>\n",
       "    </tr>\n",
       "    <tr>\n",
       "      <th>50%</th>\n",
       "      <td>0.000000</td>\n",
       "      <td>0.000000</td>\n",
       "      <td>0.000000</td>\n",
       "      <td>0.000000</td>\n",
       "      <td>0.000000</td>\n",
       "      <td>0.000000</td>\n",
       "      <td>0.000000</td>\n",
       "      <td>0.000000</td>\n",
       "      <td>0.000000</td>\n",
       "      <td>0.000000</td>\n",
       "      <td>0.000000</td>\n",
       "    </tr>\n",
       "    <tr>\n",
       "      <th>75%</th>\n",
       "      <td>0.000000</td>\n",
       "      <td>0.000000</td>\n",
       "      <td>0.420000</td>\n",
       "      <td>0.000000</td>\n",
       "      <td>0.380000</td>\n",
       "      <td>0.000000</td>\n",
       "      <td>0.000000</td>\n",
       "      <td>0.000000</td>\n",
       "      <td>0.000000</td>\n",
       "      <td>0.160000</td>\n",
       "      <td>0.000000</td>\n",
       "    </tr>\n",
       "    <tr>\n",
       "      <th>max</th>\n",
       "      <td>4.540000</td>\n",
       "      <td>14.280000</td>\n",
       "      <td>5.100000</td>\n",
       "      <td>42.810000</td>\n",
       "      <td>10.000000</td>\n",
       "      <td>5.880000</td>\n",
       "      <td>7.270000</td>\n",
       "      <td>11.110000</td>\n",
       "      <td>5.260000</td>\n",
       "      <td>18.180000</td>\n",
       "      <td>2.610000</td>\n",
       "    </tr>\n",
       "  </tbody>\n",
       "</table>\n",
       "</div>"
      ],
      "text/plain": [
       "                0            1            2            3            4   \\\n",
       "count  4601.000000  4601.000000  4601.000000  4601.000000  4601.000000   \n",
       "mean      0.104553     0.213015     0.280656     0.065425     0.312223   \n",
       "std       0.305358     1.290575     0.504143     1.395151     0.672513   \n",
       "min       0.000000     0.000000     0.000000     0.000000     0.000000   \n",
       "25%       0.000000     0.000000     0.000000     0.000000     0.000000   \n",
       "50%       0.000000     0.000000     0.000000     0.000000     0.000000   \n",
       "75%       0.000000     0.000000     0.420000     0.000000     0.380000   \n",
       "max       4.540000    14.280000     5.100000    42.810000    10.000000   \n",
       "\n",
       "                5            6            7            8            9   \\\n",
       "count  4601.000000  4601.000000  4601.000000  4601.000000  4601.000000   \n",
       "mean      0.095901     0.114208     0.105295     0.090067     0.239413   \n",
       "std       0.273824     0.391441     0.401071     0.278616     0.644755   \n",
       "min       0.000000     0.000000     0.000000     0.000000     0.000000   \n",
       "25%       0.000000     0.000000     0.000000     0.000000     0.000000   \n",
       "50%       0.000000     0.000000     0.000000     0.000000     0.000000   \n",
       "75%       0.000000     0.000000     0.000000     0.000000     0.160000   \n",
       "max       5.880000     7.270000    11.110000     5.260000    18.180000   \n",
       "\n",
       "                10  \n",
       "count  4601.000000  \n",
       "mean      0.059824  \n",
       "std       0.201545  \n",
       "min       0.000000  \n",
       "25%       0.000000  \n",
       "50%       0.000000  \n",
       "75%       0.000000  \n",
       "max       2.610000  "
      ]
     },
     "execution_count": 6,
     "metadata": {},
     "output_type": "execute_result"
    }
   ],
   "source": [
    "data_array_df.iloc[:, 0:11].describe()"
   ]
  },
  {
   "cell_type": "code",
   "execution_count": 7,
   "metadata": {},
   "outputs": [
    {
     "data": {
      "text/html": [
       "<div>\n",
       "<style scoped>\n",
       "    .dataframe tbody tr th:only-of-type {\n",
       "        vertical-align: middle;\n",
       "    }\n",
       "\n",
       "    .dataframe tbody tr th {\n",
       "        vertical-align: top;\n",
       "    }\n",
       "\n",
       "    .dataframe thead th {\n",
       "        text-align: right;\n",
       "    }\n",
       "</style>\n",
       "<table border=\"1\" class=\"dataframe\">\n",
       "  <thead>\n",
       "    <tr style=\"text-align: right;\">\n",
       "      <th></th>\n",
       "      <th>11</th>\n",
       "      <th>12</th>\n",
       "      <th>13</th>\n",
       "      <th>14</th>\n",
       "      <th>15</th>\n",
       "      <th>16</th>\n",
       "      <th>17</th>\n",
       "      <th>18</th>\n",
       "      <th>19</th>\n",
       "      <th>20</th>\n",
       "    </tr>\n",
       "  </thead>\n",
       "  <tbody>\n",
       "    <tr>\n",
       "      <th>count</th>\n",
       "      <td>4601.000000</td>\n",
       "      <td>4601.000000</td>\n",
       "      <td>4601.000000</td>\n",
       "      <td>4601.000000</td>\n",
       "      <td>4601.000000</td>\n",
       "      <td>4601.000000</td>\n",
       "      <td>4601.000000</td>\n",
       "      <td>4601.000000</td>\n",
       "      <td>4601.000000</td>\n",
       "      <td>4601.000000</td>\n",
       "    </tr>\n",
       "    <tr>\n",
       "      <th>mean</th>\n",
       "      <td>0.541702</td>\n",
       "      <td>0.093930</td>\n",
       "      <td>0.058626</td>\n",
       "      <td>0.049205</td>\n",
       "      <td>0.248848</td>\n",
       "      <td>0.142586</td>\n",
       "      <td>0.184745</td>\n",
       "      <td>1.662100</td>\n",
       "      <td>0.085577</td>\n",
       "      <td>0.809761</td>\n",
       "    </tr>\n",
       "    <tr>\n",
       "      <th>std</th>\n",
       "      <td>0.861698</td>\n",
       "      <td>0.301036</td>\n",
       "      <td>0.335184</td>\n",
       "      <td>0.258843</td>\n",
       "      <td>0.825792</td>\n",
       "      <td>0.444055</td>\n",
       "      <td>0.531122</td>\n",
       "      <td>1.775481</td>\n",
       "      <td>0.509767</td>\n",
       "      <td>1.200810</td>\n",
       "    </tr>\n",
       "    <tr>\n",
       "      <th>min</th>\n",
       "      <td>0.000000</td>\n",
       "      <td>0.000000</td>\n",
       "      <td>0.000000</td>\n",
       "      <td>0.000000</td>\n",
       "      <td>0.000000</td>\n",
       "      <td>0.000000</td>\n",
       "      <td>0.000000</td>\n",
       "      <td>0.000000</td>\n",
       "      <td>0.000000</td>\n",
       "      <td>0.000000</td>\n",
       "    </tr>\n",
       "    <tr>\n",
       "      <th>25%</th>\n",
       "      <td>0.000000</td>\n",
       "      <td>0.000000</td>\n",
       "      <td>0.000000</td>\n",
       "      <td>0.000000</td>\n",
       "      <td>0.000000</td>\n",
       "      <td>0.000000</td>\n",
       "      <td>0.000000</td>\n",
       "      <td>0.000000</td>\n",
       "      <td>0.000000</td>\n",
       "      <td>0.000000</td>\n",
       "    </tr>\n",
       "    <tr>\n",
       "      <th>50%</th>\n",
       "      <td>0.100000</td>\n",
       "      <td>0.000000</td>\n",
       "      <td>0.000000</td>\n",
       "      <td>0.000000</td>\n",
       "      <td>0.000000</td>\n",
       "      <td>0.000000</td>\n",
       "      <td>0.000000</td>\n",
       "      <td>1.310000</td>\n",
       "      <td>0.000000</td>\n",
       "      <td>0.220000</td>\n",
       "    </tr>\n",
       "    <tr>\n",
       "      <th>75%</th>\n",
       "      <td>0.800000</td>\n",
       "      <td>0.000000</td>\n",
       "      <td>0.000000</td>\n",
       "      <td>0.000000</td>\n",
       "      <td>0.100000</td>\n",
       "      <td>0.000000</td>\n",
       "      <td>0.000000</td>\n",
       "      <td>2.640000</td>\n",
       "      <td>0.000000</td>\n",
       "      <td>1.270000</td>\n",
       "    </tr>\n",
       "    <tr>\n",
       "      <th>max</th>\n",
       "      <td>9.670000</td>\n",
       "      <td>5.550000</td>\n",
       "      <td>10.000000</td>\n",
       "      <td>4.410000</td>\n",
       "      <td>20.000000</td>\n",
       "      <td>7.140000</td>\n",
       "      <td>9.090000</td>\n",
       "      <td>18.750000</td>\n",
       "      <td>18.180000</td>\n",
       "      <td>11.110000</td>\n",
       "    </tr>\n",
       "  </tbody>\n",
       "</table>\n",
       "</div>"
      ],
      "text/plain": [
       "                11           12           13           14           15  \\\n",
       "count  4601.000000  4601.000000  4601.000000  4601.000000  4601.000000   \n",
       "mean      0.541702     0.093930     0.058626     0.049205     0.248848   \n",
       "std       0.861698     0.301036     0.335184     0.258843     0.825792   \n",
       "min       0.000000     0.000000     0.000000     0.000000     0.000000   \n",
       "25%       0.000000     0.000000     0.000000     0.000000     0.000000   \n",
       "50%       0.100000     0.000000     0.000000     0.000000     0.000000   \n",
       "75%       0.800000     0.000000     0.000000     0.000000     0.100000   \n",
       "max       9.670000     5.550000    10.000000     4.410000    20.000000   \n",
       "\n",
       "                16           17           18           19           20  \n",
       "count  4601.000000  4601.000000  4601.000000  4601.000000  4601.000000  \n",
       "mean      0.142586     0.184745     1.662100     0.085577     0.809761  \n",
       "std       0.444055     0.531122     1.775481     0.509767     1.200810  \n",
       "min       0.000000     0.000000     0.000000     0.000000     0.000000  \n",
       "25%       0.000000     0.000000     0.000000     0.000000     0.000000  \n",
       "50%       0.000000     0.000000     1.310000     0.000000     0.220000  \n",
       "75%       0.000000     0.000000     2.640000     0.000000     1.270000  \n",
       "max       7.140000     9.090000    18.750000    18.180000    11.110000  "
      ]
     },
     "execution_count": 7,
     "metadata": {},
     "output_type": "execute_result"
    }
   ],
   "source": [
    "data_array_df.iloc[:, 11:21].describe()"
   ]
  },
  {
   "cell_type": "code",
   "execution_count": 8,
   "metadata": {},
   "outputs": [
    {
     "data": {
      "text/html": [
       "<div>\n",
       "<style scoped>\n",
       "    .dataframe tbody tr th:only-of-type {\n",
       "        vertical-align: middle;\n",
       "    }\n",
       "\n",
       "    .dataframe tbody tr th {\n",
       "        vertical-align: top;\n",
       "    }\n",
       "\n",
       "    .dataframe thead th {\n",
       "        text-align: right;\n",
       "    }\n",
       "</style>\n",
       "<table border=\"1\" class=\"dataframe\">\n",
       "  <thead>\n",
       "    <tr style=\"text-align: right;\">\n",
       "      <th></th>\n",
       "      <th>21</th>\n",
       "      <th>22</th>\n",
       "      <th>23</th>\n",
       "      <th>24</th>\n",
       "      <th>25</th>\n",
       "      <th>26</th>\n",
       "      <th>27</th>\n",
       "      <th>28</th>\n",
       "      <th>29</th>\n",
       "      <th>30</th>\n",
       "    </tr>\n",
       "  </thead>\n",
       "  <tbody>\n",
       "    <tr>\n",
       "      <th>count</th>\n",
       "      <td>4601.000000</td>\n",
       "      <td>4601.000000</td>\n",
       "      <td>4601.000000</td>\n",
       "      <td>4601.000000</td>\n",
       "      <td>4601.000000</td>\n",
       "      <td>4601.000000</td>\n",
       "      <td>4601.000000</td>\n",
       "      <td>4601.000000</td>\n",
       "      <td>4601.000000</td>\n",
       "      <td>4601.000000</td>\n",
       "    </tr>\n",
       "    <tr>\n",
       "      <th>mean</th>\n",
       "      <td>0.121202</td>\n",
       "      <td>0.101645</td>\n",
       "      <td>0.094269</td>\n",
       "      <td>0.549504</td>\n",
       "      <td>0.265384</td>\n",
       "      <td>0.767305</td>\n",
       "      <td>0.124845</td>\n",
       "      <td>0.098915</td>\n",
       "      <td>0.102852</td>\n",
       "      <td>0.064753</td>\n",
       "    </tr>\n",
       "    <tr>\n",
       "      <th>std</th>\n",
       "      <td>1.025756</td>\n",
       "      <td>0.350286</td>\n",
       "      <td>0.442636</td>\n",
       "      <td>1.671349</td>\n",
       "      <td>0.886955</td>\n",
       "      <td>3.367292</td>\n",
       "      <td>0.538576</td>\n",
       "      <td>0.593327</td>\n",
       "      <td>0.456682</td>\n",
       "      <td>0.403393</td>\n",
       "    </tr>\n",
       "    <tr>\n",
       "      <th>min</th>\n",
       "      <td>0.000000</td>\n",
       "      <td>0.000000</td>\n",
       "      <td>0.000000</td>\n",
       "      <td>0.000000</td>\n",
       "      <td>0.000000</td>\n",
       "      <td>0.000000</td>\n",
       "      <td>0.000000</td>\n",
       "      <td>0.000000</td>\n",
       "      <td>0.000000</td>\n",
       "      <td>0.000000</td>\n",
       "    </tr>\n",
       "    <tr>\n",
       "      <th>25%</th>\n",
       "      <td>0.000000</td>\n",
       "      <td>0.000000</td>\n",
       "      <td>0.000000</td>\n",
       "      <td>0.000000</td>\n",
       "      <td>0.000000</td>\n",
       "      <td>0.000000</td>\n",
       "      <td>0.000000</td>\n",
       "      <td>0.000000</td>\n",
       "      <td>0.000000</td>\n",
       "      <td>0.000000</td>\n",
       "    </tr>\n",
       "    <tr>\n",
       "      <th>50%</th>\n",
       "      <td>0.000000</td>\n",
       "      <td>0.000000</td>\n",
       "      <td>0.000000</td>\n",
       "      <td>0.000000</td>\n",
       "      <td>0.000000</td>\n",
       "      <td>0.000000</td>\n",
       "      <td>0.000000</td>\n",
       "      <td>0.000000</td>\n",
       "      <td>0.000000</td>\n",
       "      <td>0.000000</td>\n",
       "    </tr>\n",
       "    <tr>\n",
       "      <th>75%</th>\n",
       "      <td>0.000000</td>\n",
       "      <td>0.000000</td>\n",
       "      <td>0.000000</td>\n",
       "      <td>0.000000</td>\n",
       "      <td>0.000000</td>\n",
       "      <td>0.000000</td>\n",
       "      <td>0.000000</td>\n",
       "      <td>0.000000</td>\n",
       "      <td>0.000000</td>\n",
       "      <td>0.000000</td>\n",
       "    </tr>\n",
       "    <tr>\n",
       "      <th>max</th>\n",
       "      <td>17.100000</td>\n",
       "      <td>5.450000</td>\n",
       "      <td>12.500000</td>\n",
       "      <td>20.830000</td>\n",
       "      <td>16.660000</td>\n",
       "      <td>33.330000</td>\n",
       "      <td>9.090000</td>\n",
       "      <td>14.280000</td>\n",
       "      <td>5.880000</td>\n",
       "      <td>12.500000</td>\n",
       "    </tr>\n",
       "  </tbody>\n",
       "</table>\n",
       "</div>"
      ],
      "text/plain": [
       "                21           22           23           24           25  \\\n",
       "count  4601.000000  4601.000000  4601.000000  4601.000000  4601.000000   \n",
       "mean      0.121202     0.101645     0.094269     0.549504     0.265384   \n",
       "std       1.025756     0.350286     0.442636     1.671349     0.886955   \n",
       "min       0.000000     0.000000     0.000000     0.000000     0.000000   \n",
       "25%       0.000000     0.000000     0.000000     0.000000     0.000000   \n",
       "50%       0.000000     0.000000     0.000000     0.000000     0.000000   \n",
       "75%       0.000000     0.000000     0.000000     0.000000     0.000000   \n",
       "max      17.100000     5.450000    12.500000    20.830000    16.660000   \n",
       "\n",
       "                26           27           28           29           30  \n",
       "count  4601.000000  4601.000000  4601.000000  4601.000000  4601.000000  \n",
       "mean      0.767305     0.124845     0.098915     0.102852     0.064753  \n",
       "std       3.367292     0.538576     0.593327     0.456682     0.403393  \n",
       "min       0.000000     0.000000     0.000000     0.000000     0.000000  \n",
       "25%       0.000000     0.000000     0.000000     0.000000     0.000000  \n",
       "50%       0.000000     0.000000     0.000000     0.000000     0.000000  \n",
       "75%       0.000000     0.000000     0.000000     0.000000     0.000000  \n",
       "max      33.330000     9.090000    14.280000     5.880000    12.500000  "
      ]
     },
     "execution_count": 8,
     "metadata": {},
     "output_type": "execute_result"
    }
   ],
   "source": [
    "data_array_df.iloc[:, 21:31].describe()"
   ]
  },
  {
   "cell_type": "code",
   "execution_count": 9,
   "metadata": {},
   "outputs": [
    {
     "data": {
      "text/html": [
       "<div>\n",
       "<style scoped>\n",
       "    .dataframe tbody tr th:only-of-type {\n",
       "        vertical-align: middle;\n",
       "    }\n",
       "\n",
       "    .dataframe tbody tr th {\n",
       "        vertical-align: top;\n",
       "    }\n",
       "\n",
       "    .dataframe thead th {\n",
       "        text-align: right;\n",
       "    }\n",
       "</style>\n",
       "<table border=\"1\" class=\"dataframe\">\n",
       "  <thead>\n",
       "    <tr style=\"text-align: right;\">\n",
       "      <th></th>\n",
       "      <th>31</th>\n",
       "      <th>32</th>\n",
       "      <th>33</th>\n",
       "      <th>34</th>\n",
       "      <th>35</th>\n",
       "      <th>36</th>\n",
       "      <th>37</th>\n",
       "      <th>38</th>\n",
       "      <th>39</th>\n",
       "      <th>40</th>\n",
       "    </tr>\n",
       "  </thead>\n",
       "  <tbody>\n",
       "    <tr>\n",
       "      <th>count</th>\n",
       "      <td>4601.000000</td>\n",
       "      <td>4601.000000</td>\n",
       "      <td>4601.000000</td>\n",
       "      <td>4601.000000</td>\n",
       "      <td>4601.000000</td>\n",
       "      <td>4601.000000</td>\n",
       "      <td>4601.000000</td>\n",
       "      <td>4601.000000</td>\n",
       "      <td>4601.000000</td>\n",
       "      <td>4601.000000</td>\n",
       "    </tr>\n",
       "    <tr>\n",
       "      <th>mean</th>\n",
       "      <td>0.047048</td>\n",
       "      <td>0.097229</td>\n",
       "      <td>0.047835</td>\n",
       "      <td>0.105412</td>\n",
       "      <td>0.097477</td>\n",
       "      <td>0.136953</td>\n",
       "      <td>0.013201</td>\n",
       "      <td>0.078629</td>\n",
       "      <td>0.064834</td>\n",
       "      <td>0.043667</td>\n",
       "    </tr>\n",
       "    <tr>\n",
       "      <th>std</th>\n",
       "      <td>0.328559</td>\n",
       "      <td>0.555907</td>\n",
       "      <td>0.329445</td>\n",
       "      <td>0.532260</td>\n",
       "      <td>0.402623</td>\n",
       "      <td>0.423451</td>\n",
       "      <td>0.220651</td>\n",
       "      <td>0.434672</td>\n",
       "      <td>0.349916</td>\n",
       "      <td>0.361205</td>\n",
       "    </tr>\n",
       "    <tr>\n",
       "      <th>min</th>\n",
       "      <td>0.000000</td>\n",
       "      <td>0.000000</td>\n",
       "      <td>0.000000</td>\n",
       "      <td>0.000000</td>\n",
       "      <td>0.000000</td>\n",
       "      <td>0.000000</td>\n",
       "      <td>0.000000</td>\n",
       "      <td>0.000000</td>\n",
       "      <td>0.000000</td>\n",
       "      <td>0.000000</td>\n",
       "    </tr>\n",
       "    <tr>\n",
       "      <th>25%</th>\n",
       "      <td>0.000000</td>\n",
       "      <td>0.000000</td>\n",
       "      <td>0.000000</td>\n",
       "      <td>0.000000</td>\n",
       "      <td>0.000000</td>\n",
       "      <td>0.000000</td>\n",
       "      <td>0.000000</td>\n",
       "      <td>0.000000</td>\n",
       "      <td>0.000000</td>\n",
       "      <td>0.000000</td>\n",
       "    </tr>\n",
       "    <tr>\n",
       "      <th>50%</th>\n",
       "      <td>0.000000</td>\n",
       "      <td>0.000000</td>\n",
       "      <td>0.000000</td>\n",
       "      <td>0.000000</td>\n",
       "      <td>0.000000</td>\n",
       "      <td>0.000000</td>\n",
       "      <td>0.000000</td>\n",
       "      <td>0.000000</td>\n",
       "      <td>0.000000</td>\n",
       "      <td>0.000000</td>\n",
       "    </tr>\n",
       "    <tr>\n",
       "      <th>75%</th>\n",
       "      <td>0.000000</td>\n",
       "      <td>0.000000</td>\n",
       "      <td>0.000000</td>\n",
       "      <td>0.000000</td>\n",
       "      <td>0.000000</td>\n",
       "      <td>0.000000</td>\n",
       "      <td>0.000000</td>\n",
       "      <td>0.000000</td>\n",
       "      <td>0.000000</td>\n",
       "      <td>0.000000</td>\n",
       "    </tr>\n",
       "    <tr>\n",
       "      <th>max</th>\n",
       "      <td>4.760000</td>\n",
       "      <td>18.180000</td>\n",
       "      <td>4.760000</td>\n",
       "      <td>20.000000</td>\n",
       "      <td>7.690000</td>\n",
       "      <td>6.890000</td>\n",
       "      <td>8.330000</td>\n",
       "      <td>11.110000</td>\n",
       "      <td>4.760000</td>\n",
       "      <td>7.140000</td>\n",
       "    </tr>\n",
       "  </tbody>\n",
       "</table>\n",
       "</div>"
      ],
      "text/plain": [
       "                31           32           33           34           35  \\\n",
       "count  4601.000000  4601.000000  4601.000000  4601.000000  4601.000000   \n",
       "mean      0.047048     0.097229     0.047835     0.105412     0.097477   \n",
       "std       0.328559     0.555907     0.329445     0.532260     0.402623   \n",
       "min       0.000000     0.000000     0.000000     0.000000     0.000000   \n",
       "25%       0.000000     0.000000     0.000000     0.000000     0.000000   \n",
       "50%       0.000000     0.000000     0.000000     0.000000     0.000000   \n",
       "75%       0.000000     0.000000     0.000000     0.000000     0.000000   \n",
       "max       4.760000    18.180000     4.760000    20.000000     7.690000   \n",
       "\n",
       "                36           37           38           39           40  \n",
       "count  4601.000000  4601.000000  4601.000000  4601.000000  4601.000000  \n",
       "mean      0.136953     0.013201     0.078629     0.064834     0.043667  \n",
       "std       0.423451     0.220651     0.434672     0.349916     0.361205  \n",
       "min       0.000000     0.000000     0.000000     0.000000     0.000000  \n",
       "25%       0.000000     0.000000     0.000000     0.000000     0.000000  \n",
       "50%       0.000000     0.000000     0.000000     0.000000     0.000000  \n",
       "75%       0.000000     0.000000     0.000000     0.000000     0.000000  \n",
       "max       6.890000     8.330000    11.110000     4.760000     7.140000  "
      ]
     },
     "execution_count": 9,
     "metadata": {},
     "output_type": "execute_result"
    }
   ],
   "source": [
    "data_array_df.iloc[:, 31:41].describe()"
   ]
  },
  {
   "cell_type": "code",
   "execution_count": 10,
   "metadata": {},
   "outputs": [
    {
     "data": {
      "text/html": [
       "<div>\n",
       "<style scoped>\n",
       "    .dataframe tbody tr th:only-of-type {\n",
       "        vertical-align: middle;\n",
       "    }\n",
       "\n",
       "    .dataframe tbody tr th {\n",
       "        vertical-align: top;\n",
       "    }\n",
       "\n",
       "    .dataframe thead th {\n",
       "        text-align: right;\n",
       "    }\n",
       "</style>\n",
       "<table border=\"1\" class=\"dataframe\">\n",
       "  <thead>\n",
       "    <tr style=\"text-align: right;\">\n",
       "      <th></th>\n",
       "      <th>41</th>\n",
       "      <th>42</th>\n",
       "      <th>43</th>\n",
       "      <th>44</th>\n",
       "      <th>45</th>\n",
       "      <th>46</th>\n",
       "      <th>47</th>\n",
       "      <th>48</th>\n",
       "      <th>49</th>\n",
       "      <th>50</th>\n",
       "    </tr>\n",
       "  </thead>\n",
       "  <tbody>\n",
       "    <tr>\n",
       "      <th>count</th>\n",
       "      <td>4601.000000</td>\n",
       "      <td>4601.000000</td>\n",
       "      <td>4601.000000</td>\n",
       "      <td>4601.000000</td>\n",
       "      <td>4601.000000</td>\n",
       "      <td>4601.000000</td>\n",
       "      <td>4601.000000</td>\n",
       "      <td>4601.000000</td>\n",
       "      <td>4601.000000</td>\n",
       "      <td>4601.000000</td>\n",
       "    </tr>\n",
       "    <tr>\n",
       "      <th>mean</th>\n",
       "      <td>0.132339</td>\n",
       "      <td>0.046099</td>\n",
       "      <td>0.079196</td>\n",
       "      <td>0.301224</td>\n",
       "      <td>0.179824</td>\n",
       "      <td>0.005444</td>\n",
       "      <td>0.031869</td>\n",
       "      <td>0.038575</td>\n",
       "      <td>0.139030</td>\n",
       "      <td>0.016976</td>\n",
       "    </tr>\n",
       "    <tr>\n",
       "      <th>std</th>\n",
       "      <td>0.766819</td>\n",
       "      <td>0.223812</td>\n",
       "      <td>0.621976</td>\n",
       "      <td>1.011687</td>\n",
       "      <td>0.911119</td>\n",
       "      <td>0.076274</td>\n",
       "      <td>0.285735</td>\n",
       "      <td>0.243471</td>\n",
       "      <td>0.270355</td>\n",
       "      <td>0.109394</td>\n",
       "    </tr>\n",
       "    <tr>\n",
       "      <th>min</th>\n",
       "      <td>0.000000</td>\n",
       "      <td>0.000000</td>\n",
       "      <td>0.000000</td>\n",
       "      <td>0.000000</td>\n",
       "      <td>0.000000</td>\n",
       "      <td>0.000000</td>\n",
       "      <td>0.000000</td>\n",
       "      <td>0.000000</td>\n",
       "      <td>0.000000</td>\n",
       "      <td>0.000000</td>\n",
       "    </tr>\n",
       "    <tr>\n",
       "      <th>25%</th>\n",
       "      <td>0.000000</td>\n",
       "      <td>0.000000</td>\n",
       "      <td>0.000000</td>\n",
       "      <td>0.000000</td>\n",
       "      <td>0.000000</td>\n",
       "      <td>0.000000</td>\n",
       "      <td>0.000000</td>\n",
       "      <td>0.000000</td>\n",
       "      <td>0.000000</td>\n",
       "      <td>0.000000</td>\n",
       "    </tr>\n",
       "    <tr>\n",
       "      <th>50%</th>\n",
       "      <td>0.000000</td>\n",
       "      <td>0.000000</td>\n",
       "      <td>0.000000</td>\n",
       "      <td>0.000000</td>\n",
       "      <td>0.000000</td>\n",
       "      <td>0.000000</td>\n",
       "      <td>0.000000</td>\n",
       "      <td>0.000000</td>\n",
       "      <td>0.065000</td>\n",
       "      <td>0.000000</td>\n",
       "    </tr>\n",
       "    <tr>\n",
       "      <th>75%</th>\n",
       "      <td>0.000000</td>\n",
       "      <td>0.000000</td>\n",
       "      <td>0.000000</td>\n",
       "      <td>0.110000</td>\n",
       "      <td>0.000000</td>\n",
       "      <td>0.000000</td>\n",
       "      <td>0.000000</td>\n",
       "      <td>0.000000</td>\n",
       "      <td>0.188000</td>\n",
       "      <td>0.000000</td>\n",
       "    </tr>\n",
       "    <tr>\n",
       "      <th>max</th>\n",
       "      <td>14.280000</td>\n",
       "      <td>3.570000</td>\n",
       "      <td>20.000000</td>\n",
       "      <td>21.420000</td>\n",
       "      <td>22.050000</td>\n",
       "      <td>2.170000</td>\n",
       "      <td>10.000000</td>\n",
       "      <td>4.385000</td>\n",
       "      <td>9.752000</td>\n",
       "      <td>4.081000</td>\n",
       "    </tr>\n",
       "  </tbody>\n",
       "</table>\n",
       "</div>"
      ],
      "text/plain": [
       "                41           42           43           44           45  \\\n",
       "count  4601.000000  4601.000000  4601.000000  4601.000000  4601.000000   \n",
       "mean      0.132339     0.046099     0.079196     0.301224     0.179824   \n",
       "std       0.766819     0.223812     0.621976     1.011687     0.911119   \n",
       "min       0.000000     0.000000     0.000000     0.000000     0.000000   \n",
       "25%       0.000000     0.000000     0.000000     0.000000     0.000000   \n",
       "50%       0.000000     0.000000     0.000000     0.000000     0.000000   \n",
       "75%       0.000000     0.000000     0.000000     0.110000     0.000000   \n",
       "max      14.280000     3.570000    20.000000    21.420000    22.050000   \n",
       "\n",
       "                46           47           48           49           50  \n",
       "count  4601.000000  4601.000000  4601.000000  4601.000000  4601.000000  \n",
       "mean      0.005444     0.031869     0.038575     0.139030     0.016976  \n",
       "std       0.076274     0.285735     0.243471     0.270355     0.109394  \n",
       "min       0.000000     0.000000     0.000000     0.000000     0.000000  \n",
       "25%       0.000000     0.000000     0.000000     0.000000     0.000000  \n",
       "50%       0.000000     0.000000     0.000000     0.065000     0.000000  \n",
       "75%       0.000000     0.000000     0.000000     0.188000     0.000000  \n",
       "max       2.170000    10.000000     4.385000     9.752000     4.081000  "
      ]
     },
     "execution_count": 10,
     "metadata": {},
     "output_type": "execute_result"
    }
   ],
   "source": [
    "data_array_df.iloc[:, 41:51].describe()"
   ]
  },
  {
   "cell_type": "code",
   "execution_count": 11,
   "metadata": {},
   "outputs": [
    {
     "data": {
      "text/html": [
       "<div>\n",
       "<style scoped>\n",
       "    .dataframe tbody tr th:only-of-type {\n",
       "        vertical-align: middle;\n",
       "    }\n",
       "\n",
       "    .dataframe tbody tr th {\n",
       "        vertical-align: top;\n",
       "    }\n",
       "\n",
       "    .dataframe thead th {\n",
       "        text-align: right;\n",
       "    }\n",
       "</style>\n",
       "<table border=\"1\" class=\"dataframe\">\n",
       "  <thead>\n",
       "    <tr style=\"text-align: right;\">\n",
       "      <th></th>\n",
       "      <th>51</th>\n",
       "      <th>52</th>\n",
       "      <th>53</th>\n",
       "      <th>54</th>\n",
       "      <th>55</th>\n",
       "      <th>56</th>\n",
       "      <th>57</th>\n",
       "    </tr>\n",
       "  </thead>\n",
       "  <tbody>\n",
       "    <tr>\n",
       "      <th>count</th>\n",
       "      <td>4601.000000</td>\n",
       "      <td>4601.000000</td>\n",
       "      <td>4601.000000</td>\n",
       "      <td>4601.000000</td>\n",
       "      <td>4601.000000</td>\n",
       "      <td>4601.000000</td>\n",
       "      <td>4601.000000</td>\n",
       "    </tr>\n",
       "    <tr>\n",
       "      <th>mean</th>\n",
       "      <td>0.269071</td>\n",
       "      <td>0.075811</td>\n",
       "      <td>0.044238</td>\n",
       "      <td>5.191515</td>\n",
       "      <td>52.172789</td>\n",
       "      <td>283.289285</td>\n",
       "      <td>0.394045</td>\n",
       "    </tr>\n",
       "    <tr>\n",
       "      <th>std</th>\n",
       "      <td>0.815672</td>\n",
       "      <td>0.245882</td>\n",
       "      <td>0.429342</td>\n",
       "      <td>31.729449</td>\n",
       "      <td>194.891310</td>\n",
       "      <td>606.347851</td>\n",
       "      <td>0.488698</td>\n",
       "    </tr>\n",
       "    <tr>\n",
       "      <th>min</th>\n",
       "      <td>0.000000</td>\n",
       "      <td>0.000000</td>\n",
       "      <td>0.000000</td>\n",
       "      <td>1.000000</td>\n",
       "      <td>1.000000</td>\n",
       "      <td>1.000000</td>\n",
       "      <td>0.000000</td>\n",
       "    </tr>\n",
       "    <tr>\n",
       "      <th>25%</th>\n",
       "      <td>0.000000</td>\n",
       "      <td>0.000000</td>\n",
       "      <td>0.000000</td>\n",
       "      <td>1.588000</td>\n",
       "      <td>6.000000</td>\n",
       "      <td>35.000000</td>\n",
       "      <td>0.000000</td>\n",
       "    </tr>\n",
       "    <tr>\n",
       "      <th>50%</th>\n",
       "      <td>0.000000</td>\n",
       "      <td>0.000000</td>\n",
       "      <td>0.000000</td>\n",
       "      <td>2.276000</td>\n",
       "      <td>15.000000</td>\n",
       "      <td>95.000000</td>\n",
       "      <td>0.000000</td>\n",
       "    </tr>\n",
       "    <tr>\n",
       "      <th>75%</th>\n",
       "      <td>0.315000</td>\n",
       "      <td>0.052000</td>\n",
       "      <td>0.000000</td>\n",
       "      <td>3.706000</td>\n",
       "      <td>43.000000</td>\n",
       "      <td>266.000000</td>\n",
       "      <td>1.000000</td>\n",
       "    </tr>\n",
       "    <tr>\n",
       "      <th>max</th>\n",
       "      <td>32.478000</td>\n",
       "      <td>6.003000</td>\n",
       "      <td>19.829000</td>\n",
       "      <td>1102.500000</td>\n",
       "      <td>9989.000000</td>\n",
       "      <td>15841.000000</td>\n",
       "      <td>1.000000</td>\n",
       "    </tr>\n",
       "  </tbody>\n",
       "</table>\n",
       "</div>"
      ],
      "text/plain": [
       "                51           52           53           54           55  \\\n",
       "count  4601.000000  4601.000000  4601.000000  4601.000000  4601.000000   \n",
       "mean      0.269071     0.075811     0.044238     5.191515    52.172789   \n",
       "std       0.815672     0.245882     0.429342    31.729449   194.891310   \n",
       "min       0.000000     0.000000     0.000000     1.000000     1.000000   \n",
       "25%       0.000000     0.000000     0.000000     1.588000     6.000000   \n",
       "50%       0.000000     0.000000     0.000000     2.276000    15.000000   \n",
       "75%       0.315000     0.052000     0.000000     3.706000    43.000000   \n",
       "max      32.478000     6.003000    19.829000  1102.500000  9989.000000   \n",
       "\n",
       "                 56           57  \n",
       "count   4601.000000  4601.000000  \n",
       "mean     283.289285     0.394045  \n",
       "std      606.347851     0.488698  \n",
       "min        1.000000     0.000000  \n",
       "25%       35.000000     0.000000  \n",
       "50%       95.000000     0.000000  \n",
       "75%      266.000000     1.000000  \n",
       "max    15841.000000     1.000000  "
      ]
     },
     "execution_count": 11,
     "metadata": {},
     "output_type": "execute_result"
    }
   ],
   "source": [
    "data_array_df.iloc[:, 51:].describe()"
   ]
  },
  {
   "cell_type": "code",
   "execution_count": 12,
   "metadata": {},
   "outputs": [
    {
     "data": {
      "text/html": [
       "<div>\n",
       "<style scoped>\n",
       "    .dataframe tbody tr th:only-of-type {\n",
       "        vertical-align: middle;\n",
       "    }\n",
       "\n",
       "    .dataframe tbody tr th {\n",
       "        vertical-align: top;\n",
       "    }\n",
       "\n",
       "    .dataframe thead th {\n",
       "        text-align: right;\n",
       "    }\n",
       "</style>\n",
       "<table border=\"1\" class=\"dataframe\">\n",
       "  <thead>\n",
       "    <tr style=\"text-align: right;\">\n",
       "      <th></th>\n",
       "      <th>0</th>\n",
       "      <th>1</th>\n",
       "      <th>2</th>\n",
       "      <th>3</th>\n",
       "      <th>4</th>\n",
       "      <th>5</th>\n",
       "      <th>6</th>\n",
       "      <th>7</th>\n",
       "      <th>8</th>\n",
       "      <th>9</th>\n",
       "      <th>...</th>\n",
       "      <th>48</th>\n",
       "      <th>49</th>\n",
       "      <th>50</th>\n",
       "      <th>51</th>\n",
       "      <th>52</th>\n",
       "      <th>53</th>\n",
       "      <th>54</th>\n",
       "      <th>55</th>\n",
       "      <th>56</th>\n",
       "      <th>57</th>\n",
       "    </tr>\n",
       "  </thead>\n",
       "  <tbody>\n",
       "    <tr>\n",
       "      <th>0</th>\n",
       "      <td>0.00</td>\n",
       "      <td>0.64</td>\n",
       "      <td>0.64</td>\n",
       "      <td>0.0</td>\n",
       "      <td>0.32</td>\n",
       "      <td>0.00</td>\n",
       "      <td>0.00</td>\n",
       "      <td>0.00</td>\n",
       "      <td>0.00</td>\n",
       "      <td>0.00</td>\n",
       "      <td>...</td>\n",
       "      <td>0.00</td>\n",
       "      <td>0.000</td>\n",
       "      <td>0.0</td>\n",
       "      <td>0.778</td>\n",
       "      <td>0.000</td>\n",
       "      <td>0.000</td>\n",
       "      <td>3.756</td>\n",
       "      <td>61.0</td>\n",
       "      <td>278.0</td>\n",
       "      <td>1.0</td>\n",
       "    </tr>\n",
       "    <tr>\n",
       "      <th>1</th>\n",
       "      <td>0.21</td>\n",
       "      <td>0.28</td>\n",
       "      <td>0.50</td>\n",
       "      <td>0.0</td>\n",
       "      <td>0.14</td>\n",
       "      <td>0.28</td>\n",
       "      <td>0.21</td>\n",
       "      <td>0.07</td>\n",
       "      <td>0.00</td>\n",
       "      <td>0.94</td>\n",
       "      <td>...</td>\n",
       "      <td>0.00</td>\n",
       "      <td>0.132</td>\n",
       "      <td>0.0</td>\n",
       "      <td>0.372</td>\n",
       "      <td>0.180</td>\n",
       "      <td>0.048</td>\n",
       "      <td>5.114</td>\n",
       "      <td>101.0</td>\n",
       "      <td>1028.0</td>\n",
       "      <td>1.0</td>\n",
       "    </tr>\n",
       "    <tr>\n",
       "      <th>2</th>\n",
       "      <td>0.06</td>\n",
       "      <td>0.00</td>\n",
       "      <td>0.71</td>\n",
       "      <td>0.0</td>\n",
       "      <td>1.23</td>\n",
       "      <td>0.19</td>\n",
       "      <td>0.19</td>\n",
       "      <td>0.12</td>\n",
       "      <td>0.64</td>\n",
       "      <td>0.25</td>\n",
       "      <td>...</td>\n",
       "      <td>0.01</td>\n",
       "      <td>0.143</td>\n",
       "      <td>0.0</td>\n",
       "      <td>0.276</td>\n",
       "      <td>0.184</td>\n",
       "      <td>0.010</td>\n",
       "      <td>9.821</td>\n",
       "      <td>485.0</td>\n",
       "      <td>2259.0</td>\n",
       "      <td>1.0</td>\n",
       "    </tr>\n",
       "    <tr>\n",
       "      <th>3</th>\n",
       "      <td>0.00</td>\n",
       "      <td>0.00</td>\n",
       "      <td>0.00</td>\n",
       "      <td>0.0</td>\n",
       "      <td>0.63</td>\n",
       "      <td>0.00</td>\n",
       "      <td>0.31</td>\n",
       "      <td>0.63</td>\n",
       "      <td>0.31</td>\n",
       "      <td>0.63</td>\n",
       "      <td>...</td>\n",
       "      <td>0.00</td>\n",
       "      <td>0.137</td>\n",
       "      <td>0.0</td>\n",
       "      <td>0.137</td>\n",
       "      <td>0.000</td>\n",
       "      <td>0.000</td>\n",
       "      <td>3.537</td>\n",
       "      <td>40.0</td>\n",
       "      <td>191.0</td>\n",
       "      <td>1.0</td>\n",
       "    </tr>\n",
       "    <tr>\n",
       "      <th>4</th>\n",
       "      <td>0.00</td>\n",
       "      <td>0.00</td>\n",
       "      <td>0.00</td>\n",
       "      <td>0.0</td>\n",
       "      <td>0.63</td>\n",
       "      <td>0.00</td>\n",
       "      <td>0.31</td>\n",
       "      <td>0.63</td>\n",
       "      <td>0.31</td>\n",
       "      <td>0.63</td>\n",
       "      <td>...</td>\n",
       "      <td>0.00</td>\n",
       "      <td>0.135</td>\n",
       "      <td>0.0</td>\n",
       "      <td>0.135</td>\n",
       "      <td>0.000</td>\n",
       "      <td>0.000</td>\n",
       "      <td>3.537</td>\n",
       "      <td>40.0</td>\n",
       "      <td>191.0</td>\n",
       "      <td>1.0</td>\n",
       "    </tr>\n",
       "  </tbody>\n",
       "</table>\n",
       "<p>5 rows × 58 columns</p>\n",
       "</div>"
      ],
      "text/plain": [
       "     0     1     2    3     4     5     6     7     8     9  ...     48  \\\n",
       "0  0.00  0.64  0.64  0.0  0.32  0.00  0.00  0.00  0.00  0.00 ...   0.00   \n",
       "1  0.21  0.28  0.50  0.0  0.14  0.28  0.21  0.07  0.00  0.94 ...   0.00   \n",
       "2  0.06  0.00  0.71  0.0  1.23  0.19  0.19  0.12  0.64  0.25 ...   0.01   \n",
       "3  0.00  0.00  0.00  0.0  0.63  0.00  0.31  0.63  0.31  0.63 ...   0.00   \n",
       "4  0.00  0.00  0.00  0.0  0.63  0.00  0.31  0.63  0.31  0.63 ...   0.00   \n",
       "\n",
       "      49   50     51     52     53     54     55      56   57  \n",
       "0  0.000  0.0  0.778  0.000  0.000  3.756   61.0   278.0  1.0  \n",
       "1  0.132  0.0  0.372  0.180  0.048  5.114  101.0  1028.0  1.0  \n",
       "2  0.143  0.0  0.276  0.184  0.010  9.821  485.0  2259.0  1.0  \n",
       "3  0.137  0.0  0.137  0.000  0.000  3.537   40.0   191.0  1.0  \n",
       "4  0.135  0.0  0.135  0.000  0.000  3.537   40.0   191.0  1.0  \n",
       "\n",
       "[5 rows x 58 columns]"
      ]
     },
     "execution_count": 12,
     "metadata": {},
     "output_type": "execute_result"
    }
   ],
   "source": [
    "\"\"\"This shows the actual data\"\"\"\n",
    "data_array_df.head()"
   ]
  },
  {
   "cell_type": "markdown",
   "metadata": {},
   "source": [
    "### 4-3) Using Seaborn's distplot to visualize data"
   ]
  },
  {
   "cell_type": "code",
   "execution_count": 13,
   "metadata": {},
   "outputs": [],
   "source": [
    "def plot_dist(df_data, start_ind, num_feature):\n",
    "    fig, ax = plt.subplots(2, 5, figsize = (15, 4))\n",
    "    col, row = 0, 0\n",
    "    for i in range(num_feature):\n",
    "        sns.distplot(df_data.iloc[:, start_ind + i], ax = ax[row, col], kde = False)\n",
    "        col += 1\n",
    "        if col == 5:\n",
    "            col = 0\n",
    "            row = row + 1\n",
    "    fig.tight_layout()\n",
    "    fig.show()"
   ]
  },
  {
   "cell_type": "code",
   "execution_count": 14,
   "metadata": {},
   "outputs": [
    {
     "data": {
      "image/png": "[encoded data removed]",
      "text/plain": [
       "<Figure size 1080x288 with 10 Axes>"
      ]
     },
     "metadata": {},
     "output_type": "display_data"
    }
   ],
   "source": [
    "plot_dist(data_array_df, 0, 10)"
   ]
  },
  {
   "cell_type": "code",
   "execution_count": 15,
   "metadata": {},
   "outputs": [
    {
     "data": {
      "image/png": "[encoded data removed]",
      "text/plain": [
       "<Figure size 1080x288 with 10 Axes>"
      ]
     },
     "metadata": {},
     "output_type": "display_data"
    }
   ],
   "source": [
    "plot_dist(data_array_df, 10, 10)"
   ]
  },
  {
   "cell_type": "code",
   "execution_count": 16,
   "metadata": {},
   "outputs": [
    {
     "data": {
      "image/png": "[encoded data removed]",
      "text/plain": [
       "<Figure size 1080x288 with 10 Axes>"
      ]
     },
     "metadata": {},
     "output_type": "display_data"
    }
   ],
   "source": [
    "plot_dist(data_array_df, 30, 10)"
   ]
  },
  {
   "cell_type": "code",
   "execution_count": 17,
   "metadata": {},
   "outputs": [
    {
     "data": {
      "image/png": "[encoded data removed]",
      "text/plain": [
       "<Figure size 1080x288 with 10 Axes>"
      ]
     },
     "metadata": {},
     "output_type": "display_data"
    }
   ],
   "source": [
    "plot_dist(data_array_df, 40, 10)"
   ]
  },
  {
   "cell_type": "code",
   "execution_count": 18,
   "metadata": {},
   "outputs": [
    {
     "data": {
      "image/png": "[encoded data removed]",
      "text/plain": [
       "<Figure size 1080x288 with 10 Axes>"
      ]
     },
     "metadata": {},
     "output_type": "display_data"
    }
   ],
   "source": [
    "plot_dist(data_array_df, 50, 8)"
   ]
  },
  {
   "cell_type": "markdown",
   "metadata": {},
   "source": [
    "#### Basic Observations from EDA\n",
    "\n",
    "* No missing or NaN values present in the dataset. No need for further pre-processing of the data\n",
    "\n",
    "* As one can see from distplots, most words occur in low frequencies in most emails. However, words corresponding to features 2, 4, 9, 11, 18 have occurences of higher frequencies. This is also self evident in the DataFrame's descriptive statistics results since thoese features tend to havae slightly higher mean value compared to other features corresponding to words\n",
    "\n",
    "* The numeric range of features are all within specified range given by UC Irvine webpage\n",
    "\n",
    "* Interesting to observe how some emails apparently have unrealistically long sequences of capitalized letters. I believe they may be mistakes in data, but without the original dataset, I can't 100% confirm this. It'd been interesting to have the actual raw form of the data"
   ]
  },
  {
   "cell_type": "markdown",
   "metadata": {},
   "source": [
    "## 5) Data split and scaling\n",
    "\n",
    "Since the data is fairly small, I performed 8:2 (train:test) split with stratify feature such that train and test have similar distribution of spam and non-spam data. Additionally, to help with convergence of the model, features are scaled using StandardScaler."
   ]
  },
  {
   "cell_type": "code",
   "execution_count": 19,
   "metadata": {},
   "outputs": [],
   "source": [
    "\"\"\"First separate data into x and y\"\"\"\n",
    "x = data_array_np[:,:-1]\n",
    "y = data_array_np[:,-1]"
   ]
  },
  {
   "cell_type": "code",
   "execution_count": 20,
   "metadata": {},
   "outputs": [],
   "source": [
    "\"\"\"Now split data into train and test sets. It is a fairly small dataset, so set up test sample to be 80:20 split\"\"\"\n",
    "x_train, x_test, y_train, y_test = train_test_split(x, y, test_size = 0.2, random_state = 0, stratify = y)"
   ]
  },
  {
   "cell_type": "code",
   "execution_count": 21,
   "metadata": {},
   "outputs": [
    {
     "name": "stdout",
     "output_type": "stream",
     "text": [
      "[[  0.      0.      0.    ...   1.911  15.     65.   ]\n",
      " [  0.      0.      0.48  ...   3.315  61.    242.   ]\n",
      " [  0.      0.      0.    ...   1.555   4.     14.   ]\n",
      " ...\n",
      " [  0.      0.      0.    ...   2.9    28.     87.   ]\n",
      " [  0.      0.      0.71  ...   1.574   6.     85.   ]\n",
      " [  0.      0.      0.    ...   1.657   8.     58.   ]]\n"
     ]
    }
   ],
   "source": [
    "print(x_train)"
   ]
  },
  {
   "cell_type": "code",
   "execution_count": 22,
   "metadata": {},
   "outputs": [],
   "source": [
    "sc = StandardScaler()\n",
    "sc.fit(x_train)\n",
    "x_train_std = sc.transform(x_train)\n",
    "x_test_std = sc.transform(x_test)"
   ]
  },
  {
   "cell_type": "code",
   "execution_count": 23,
   "metadata": {},
   "outputs": [
    {
     "name": "stdout",
     "output_type": "stream",
     "text": [
      "[[-0.3363972  -0.16281628 -0.55457932 ... -0.10004671 -0.27400098\n",
      "  -0.36105675]\n",
      " [-0.3363972  -0.16281628  0.4135476  ... -0.05893897  0.07444124\n",
      "  -0.06832662]\n",
      " [-0.3363972  -0.16281628 -0.55457932 ... -0.11047004 -0.35732412\n",
      "  -0.44540272]\n",
      " ...\n",
      " [-0.3363972  -0.16281628 -0.55457932 ... -0.07108976 -0.17552818\n",
      "  -0.32467221]\n",
      " [-0.3363972  -0.16281628  0.87744175 ... -0.10991373 -0.34217446\n",
      "  -0.3279799 ]\n",
      " [-0.3363972  -0.16281628 -0.55457932 ... -0.10748358 -0.3270248\n",
      "  -0.37263365]]\n"
     ]
    }
   ],
   "source": [
    "print(x_train_std)"
   ]
  },
  {
   "cell_type": "markdown",
   "metadata": {},
   "source": [
    "#### The false positive and false negative rates using regular train-test data split are reported with respect to this test data set size. Hence, the rates are defined as number_false_positive / number of test data and number_false_negative / number of test data respectively"
   ]
  },
  {
   "cell_type": "code",
   "execution_count": 24,
   "metadata": {},
   "outputs": [
    {
     "data": {
      "text/plain": [
       "921"
      ]
     },
     "execution_count": 24,
     "metadata": {},
     "output_type": "execute_result"
    }
   ],
   "source": [
    "len(y_test)"
   ]
  },
  {
   "cell_type": "markdown",
   "metadata": {},
   "source": [
    "## 6) Model fitting\n",
    "\n",
    "4 Models are chosen for this project. \n",
    "\n",
    "1) Logistic Regression - It's always a safe and simple case to apply in case the data is linearly separable.\n",
    "\n",
    "2) Naive Bayesian - Naive Bayesian is known to perform relatively well for long text data such ass spam filters hence it was chosen to be on of the models.\n",
    "\n",
    "3) Random Forest - A solid model in case the data needs to be separated using nonlinear technique.\n",
    "\n",
    "4) XGBoost - The number one gradient boosting algorithm that is used a lot in Kaggle competition. In my personal experience, it always performs better than Random Forest so it was included.\n",
    "\n",
    "* There are other good models out there too such as LightGBM, ExtremeForest, SVM etc. But these four models should cover solid basis for analysis of a relatively simple data\n",
    "* For each model, with exception of Naive Bayesian, GridSearch is used to find the optimal hyperparameters. In doing so, KFold validation is used (which is given as cv = number in the GridSearchCV method call. This number will be recorded as average KFold accuracy. \n",
    "* Important thing to keep in note is that when performing cross validation, the original training data set is further divided into cross validation train and test data sets.\n",
    "#### * Notice that cross vadliation is performed twice: 1) First time for hyperparameter tuning 2) To satisfy the assignment's requirement for printing out accuracy, false positive, and false negative rates of individual cross validation step"
   ]
  },
  {
   "cell_type": "markdown",
   "metadata": {},
   "source": [
    "### 6-1) Logistic Regression"
   ]
  },
  {
   "cell_type": "code",
   "execution_count": 25,
   "metadata": {},
   "outputs": [],
   "source": [
    "def lr_optimizer_estimator(dfX, dfY):\n",
    "    '''This function is used to optimize the xgboost parameters using GridSearchCV from Scikit-learn'''\n",
    "    model_lr = LogisticRegression()\n",
    "    parameters = {'penalty': ['l1','l2'], 'C': [0.001, 0.01, 0.1, 1, 10, 100]}\n",
    "    \n",
    "    \"\"\"GridSearchCV tuning\"\"\"\n",
    "    gs = GridSearchCV(estimator = model_lr, param_grid = parameters, scoring = 'accuracy', cv = 10, n_jobs = -1)\n",
    "    %time gs = gs.fit(dfX, dfY)\n",
    "    return gs"
   ]
  },
  {
   "cell_type": "code",
   "execution_count": 26,
   "metadata": {},
   "outputs": [
    {
     "name": "stdout",
     "output_type": "stream",
     "text": [
      "Wall time: 10.1 s\n"
     ]
    }
   ],
   "source": [
    "grid_lr = lr_optimizer_estimator(x_train_std, y_train)"
   ]
  },
  {
   "cell_type": "code",
   "execution_count": 27,
   "metadata": {},
   "outputs": [
    {
     "data": {
      "text/plain": [
       "array([0.60597826, 0.90733696, 0.8826087 , 0.9111413 , 0.9201087 ,\n",
       "       0.92201087, 0.92608696, 0.92472826, 0.92826087, 0.92690217,\n",
       "       0.92826087, 0.92798913])"
      ]
     },
     "execution_count": 27,
     "metadata": {},
     "output_type": "execute_result"
    }
   ],
   "source": [
    "grid_lr.cv_results_[\"mean_test_score\"]"
   ]
  },
  {
   "cell_type": "markdown",
   "metadata": {},
   "source": [
    "#### best_score_ and best_params_ represent the KFold accuracy of the model with optimal hyperparameters and the best combination parameters found by GridSearchCV respectively"
   ]
  },
  {
   "cell_type": "code",
   "execution_count": 28,
   "metadata": {},
   "outputs": [
    {
     "name": "stdout",
     "output_type": "stream",
     "text": [
      "Average KFold cross validation accuracy:  0.9282608695652174\n",
      "Optimal Parameters:  {'C': 10, 'penalty': 'l1'}\n"
     ]
    }
   ],
   "source": [
    "grid_lr_accuracy = grid_lr.best_score_\n",
    "grid_lr_param = grid_lr.best_params_\n",
    "print(\"Average KFold cross validation accuracy: \", grid_lr_accuracy)\n",
    "print(\"Optimal Parameters: \", grid_lr_param)"
   ]
  },
  {
   "cell_type": "markdown",
   "metadata": {},
   "source": [
    "#### Use the best model and training data to train a model using optimal hyperparameters"
   ]
  },
  {
   "cell_type": "code",
   "execution_count": 29,
   "metadata": {},
   "outputs": [
    {
     "data": {
      "text/plain": [
       "LogisticRegression(C=10, class_weight=None, dual=False, fit_intercept=True,\n",
       "          intercept_scaling=1, max_iter=100, multi_class='ovr', n_jobs=1,\n",
       "          penalty='l1', random_state=None, solver='liblinear', tol=0.0001,\n",
       "          verbose=0, warm_start=False)"
      ]
     },
     "execution_count": 29,
     "metadata": {},
     "output_type": "execute_result"
    }
   ],
   "source": [
    "model_lr = LogisticRegression(penalty = \"l1\", C = 10)\n",
    "model_lr.fit(x_train_std, y_train)"
   ]
  },
  {
   "cell_type": "code",
   "execution_count": 30,
   "metadata": {},
   "outputs": [],
   "source": [
    "y_pred_train_lr = model_lr.predict(x_train_std)\n",
    "train_accuracy_lr = accuracy_score(y_train, y_pred_train_lr)\n",
    "\n",
    "y_pred_test_lr = model_lr.predict(x_test_std)\n",
    "test_accuracy_lr = accuracy_score(y_test, y_pred_test_lr)"
   ]
  },
  {
   "cell_type": "code",
   "execution_count": 31,
   "metadata": {},
   "outputs": [
    {
     "name": "stdout",
     "output_type": "stream",
     "text": [
      "Logistic Regression -----> Training accuracy: 0.934239,  Test accuracy: 0.931596\n"
     ]
    }
   ],
   "source": [
    "print('Logistic Regression -----> Training accuracy: %f,  Test accuracy: %f' % (train_accuracy_lr, test_accuracy_lr))"
   ]
  },
  {
   "cell_type": "code",
   "execution_count": 32,
   "metadata": {},
   "outputs": [
    {
     "name": "stdout",
     "output_type": "stream",
     "text": [
      "             precision    recall  f1-score   support\n",
      "\n",
      "        0.0       0.94      0.94      0.94       558\n",
      "        1.0       0.91      0.91      0.91       363\n",
      "\n",
      "avg / total       0.93      0.93      0.93       921\n",
      "\n"
     ]
    }
   ],
   "source": [
    "print(classification_report(y_test, y_pred_test_lr))"
   ]
  },
  {
   "cell_type": "markdown",
   "metadata": {},
   "source": [
    "#### confusion_matrix method is used to extract number of false positives and false negatives. This process is applied to other models as well."
   ]
  },
  {
   "cell_type": "code",
   "execution_count": 33,
   "metadata": {},
   "outputs": [],
   "source": [
    "tn_lr, fp_lr, fn_lr, tp_lr = confusion_matrix(y_test, y_pred_test_lr).ravel()"
   ]
  },
  {
   "cell_type": "code",
   "execution_count": 34,
   "metadata": {},
   "outputs": [
    {
     "name": "stdout",
     "output_type": "stream",
     "text": [
      "32 31\n"
     ]
    }
   ],
   "source": [
    "print(fp_lr, fn_lr)"
   ]
  },
  {
   "cell_type": "code",
   "execution_count": 35,
   "metadata": {},
   "outputs": [
    {
     "name": "stdout",
     "output_type": "stream",
     "text": [
      "526 332\n"
     ]
    }
   ],
   "source": [
    "print(tn_lr, tp_lr)"
   ]
  },
  {
   "cell_type": "markdown",
   "metadata": {},
   "source": [
    "#### As per requirement of the assignment, a separate KFold validation is carried out"
   ]
  },
  {
   "cell_type": "code",
   "execution_count": 36,
   "metadata": {},
   "outputs": [],
   "source": [
    "\"\"\"Do Kfold cross validation here\"\"\"\n",
    "kf_lr = KFold(n_splits = 10, random_state = 0)\n",
    "\n",
    "train_accuracy_compile = []\n",
    "test_accuracy_compile = []\n",
    "fp_compile = []\n",
    "fn_compile = []\n",
    "for train_index, test_index in kf_lr.split(x_train_std):\n",
    "    \"\"\"Model instantiation\"\"\"\n",
    "    model_lr_cv = LogisticRegression(penalty = \"l1\", C = 10)\n",
    "    \"\"\"Split data into train and test of cross validation\"\"\"\n",
    "    x_train_std_cv, x_test_std_cv = x_train_std[train_index], x_train_std[test_index]\n",
    "    y_train_cv, y_test_cv = y_train[train_index], y_train[test_index]\n",
    "    model_lr_cv.fit(x_train_std_cv, y_train_cv)\n",
    "    \n",
    "    \"\"\"Get training and test accuracy of cross validation\"\"\"\n",
    "    y_pred_train_cv_lr = model_lr_cv.predict(x_train_std_cv)\n",
    "    y_pred_test_cv_lr = model_lr_cv.predict(x_test_std_cv)\n",
    "    \n",
    "    test_size = len(y_test_cv)\n",
    "    \n",
    "    \"\"\"Get train accuracy, test accuracy and false positive/negative rates compiled\"\"\"\n",
    "    train_accuracy_cv_lr = accuracy_score(y_pred_train_cv_lr, y_train_cv)\n",
    "    test_accuracy_cv_lr = accuracy_score(y_pred_test_cv_lr, y_test_cv) \n",
    "    tn_cv_lr, fp_cv_lr, fn_cv_lr, tp_cv_lr = confusion_matrix(y_test_cv, y_pred_test_cv_lr).ravel()\n",
    "    \n",
    "    \"\"\"Compile results\"\"\"\n",
    "    train_accuracy_compile.append(train_accuracy_cv_lr)\n",
    "    test_accuracy_compile.append(test_accuracy_cv_lr)\n",
    "    fp_compile.append(fp_cv_lr / test_size)\n",
    "    fn_compile.append(fn_cv_lr / test_size)\n",
    "    \n",
    "cross_val_result_lr = np.array([train_accuracy_compile, test_accuracy_compile, fp_compile, fn_compile])\n",
    "\n",
    "\"\"\"Form indices\"\"\"\n",
    "index_array = []\n",
    "for i in range(10):\n",
    "    index_array.append(\"CV \" + str(i + 1))\n",
    "\n",
    "avg_train_accuracy, avg_test_accuracy, avg_fp, avg_fn  = np.mean(train_accuracy_compile), np.mean(test_accuracy_compile), np.mean(fp_compile), np.mean(fn_compile)\n",
    "avg_df = pd.DataFrame([[avg_train_accuracy, avg_test_accuracy, avg_fp, avg_fn]], index = ['Avg CV Rate'], columns = ['Train accuracy', 'Test accuracy', 'False Positive Rate', 'False Negative Rate'])\n",
    "\n",
    "\n",
    "cross_val_result_lr_df = pd.DataFrame(cross_val_result_lr.T, index = index_array, columns = ['Train accuracy', 'Test accuracy', 'False Positive Rate', 'False Negative Rate'])\n",
    "cross_val_result_lr_df= pd.concat([cross_val_result_lr_df, avg_df])"
   ]
  },
  {
   "cell_type": "markdown",
   "metadata": {},
   "source": [
    "### 6-2) Naive Bayesian"
   ]
  },
  {
   "cell_type": "code",
   "execution_count": 37,
   "metadata": {},
   "outputs": [
    {
     "data": {
      "text/plain": [
       "GaussianNB(priors=None)"
      ]
     },
     "execution_count": 37,
     "metadata": {},
     "output_type": "execute_result"
    }
   ],
   "source": [
    "model_NB = GaussianNB()\n",
    "model_NB.fit(x_train_std, y_train)"
   ]
  },
  {
   "cell_type": "code",
   "execution_count": 38,
   "metadata": {},
   "outputs": [],
   "source": [
    "y_pred_train_NB = model_NB.predict(x_train_std)\n",
    "train_accuracy_NB = accuracy_score(y_train, y_pred_train_NB)\n",
    "\n",
    "y_pred_test_NB = model_NB.predict(x_test_std)\n",
    "test_accuracy_NB = accuracy_score(y_test, y_pred_test_NB)"
   ]
  },
  {
   "cell_type": "code",
   "execution_count": 39,
   "metadata": {},
   "outputs": [
    {
     "name": "stdout",
     "output_type": "stream",
     "text": [
      "Naive Bayesian -----> Training accuracy: 0.818478,  Test accuracy: 0.844734\n"
     ]
    }
   ],
   "source": [
    "print('Naive Bayesian -----> Training accuracy: %f,  Test accuracy: %f' % (train_accuracy_NB, test_accuracy_NB))"
   ]
  },
  {
   "cell_type": "code",
   "execution_count": 40,
   "metadata": {},
   "outputs": [
    {
     "name": "stdout",
     "output_type": "stream",
     "text": [
      "             precision    recall  f1-score   support\n",
      "\n",
      "        0.0       0.97      0.77      0.86       558\n",
      "        1.0       0.73      0.97      0.83       363\n",
      "\n",
      "avg / total       0.88      0.84      0.85       921\n",
      "\n"
     ]
    }
   ],
   "source": [
    "print(classification_report(y_test, y_pred_test_NB))"
   ]
  },
  {
   "cell_type": "code",
   "execution_count": 41,
   "metadata": {},
   "outputs": [],
   "source": [
    "tn_NB, fp_NB, fn_NB, tp_NB = confusion_matrix(y_test, y_pred_test_NB).ravel()"
   ]
  },
  {
   "cell_type": "code",
   "execution_count": 42,
   "metadata": {},
   "outputs": [
    {
     "name": "stdout",
     "output_type": "stream",
     "text": [
      "131 12\n"
     ]
    }
   ],
   "source": [
    "print(fp_NB, fn_NB)"
   ]
  },
  {
   "cell_type": "code",
   "execution_count": 43,
   "metadata": {},
   "outputs": [
    {
     "name": "stdout",
     "output_type": "stream",
     "text": [
      "427 351\n"
     ]
    }
   ],
   "source": [
    "print(tn_NB, tp_NB)"
   ]
  },
  {
   "cell_type": "code",
   "execution_count": 44,
   "metadata": {},
   "outputs": [],
   "source": [
    "\"\"\"Do Kfold cross validation here\"\"\"\n",
    "kf_NB = KFold(n_splits = 10, random_state = 0)\n",
    "\n",
    "train_accuracy_compile = []\n",
    "test_accuracy_compile = []\n",
    "fp_compile = []\n",
    "fn_compile = []\n",
    "for train_index, test_index in kf_NB.split(x_train_std):\n",
    "    \"\"\"Model instantiation\"\"\"\n",
    "    model_NB_cv = GaussianNB()\n",
    "    \"\"\"Split data into train and test of cross validation\"\"\"\n",
    "    x_train_std_cv, x_test_std_cv = x_train_std[train_index], x_train_std[test_index]\n",
    "    y_train_cv, y_test_cv = y_train[train_index], y_train[test_index]\n",
    "    model_NB_cv.fit(x_train_std_cv, y_train_cv)\n",
    "    \n",
    "    \"\"\"Get training and test accuracy of cross validation\"\"\"\n",
    "    y_pred_train_cv_NB = model_NB_cv.predict(x_train_std_cv)\n",
    "    y_pred_test_cv_NB = model_NB_cv.predict(x_test_std_cv)\n",
    "    \n",
    "    test_size = len(y_test_cv)\n",
    "    \n",
    "    \"\"\"Get train accuracy, test accuracy and false positive/negative rates compiled\"\"\"\n",
    "    train_accuracy_cv_NB = accuracy_score(y_pred_train_cv_NB, y_train_cv)\n",
    "    test_accuracy_cv_NB = accuracy_score(y_pred_test_cv_NB, y_test_cv) \n",
    "    tn_cv_NB, fp_cv_NB, fn_cv_NB, tp_cv_NB = confusion_matrix(y_test_cv, y_pred_test_cv_NB).ravel()\n",
    "    \n",
    "    \"\"\"Compile results\"\"\"\n",
    "    train_accuracy_compile.append(train_accuracy_cv_NB)\n",
    "    test_accuracy_compile.append(test_accuracy_cv_NB)\n",
    "    fp_compile.append(fp_cv_NB / test_size)\n",
    "    fn_compile.append(fn_cv_NB / test_size)\n",
    "    \n",
    "cross_val_result_NB = np.array([train_accuracy_compile, test_accuracy_compile, fp_compile, fn_compile])\n",
    "\n",
    "\"\"\"Form indices\"\"\"\n",
    "index_array = []\n",
    "for i in range(10):\n",
    "    index_array.append(\"CV \" + str(i + 1))\n",
    "\n",
    "avg_train_accuracy, avg_test_accuracy, avg_fp, avg_fn  = np.mean(train_accuracy_compile), np.mean(test_accuracy_compile), np.mean(fp_compile), np.mean(fn_compile)\n",
    "avg_df = pd.DataFrame([[avg_train_accuracy, avg_test_accuracy, avg_fp, avg_fn]], index = ['Avg CV Rate'], columns = ['Train accuracy', 'Test accuracy', 'False Positive Rate', 'False Negative Rate'])\n",
    "\n",
    "\n",
    "cross_val_result_NB_df = pd.DataFrame(cross_val_result_NB.T, index = index_array, columns = ['Train accuracy', 'Test accuracy', 'False Positive Rate', 'False Negative Rate'])\n",
    "cross_val_result_NB_df= pd.concat([cross_val_result_NB_df, avg_df])"
   ]
  },
  {
   "cell_type": "markdown",
   "metadata": {},
   "source": [
    "### 6-3) Random Forest"
   ]
  },
  {
   "cell_type": "code",
   "execution_count": 45,
   "metadata": {},
   "outputs": [],
   "source": [
    "def forest_optimizer_estimator(dfX, dfY):\n",
    "    '''This function is used to optimize the xgboost parameters using GridSearchCV from Scikit-learn'''\n",
    "    model_forest = RandomForestClassifier(n_jobs = -1, random_state = 0)\n",
    "    parameters = {'max_depth': [25, 35, 45, 55, 65, 75], 'n_estimators': [200, 300, 400, 500]}\n",
    "    \n",
    "    gs = GridSearchCV(estimator = model_forest, param_grid = parameters, scoring = 'accuracy', cv = 10, n_jobs = -1)\n",
    "    %time gs = gs.fit(dfX, dfY)\n",
    "    return gs"
   ]
  },
  {
   "cell_type": "code",
   "execution_count": 46,
   "metadata": {},
   "outputs": [
    {
     "name": "stdout",
     "output_type": "stream",
     "text": [
      "Wall time: 42.7 s\n",
      "Wall time: 42.7 s\n"
     ]
    }
   ],
   "source": [
    "%%time\n",
    "grid_rf = forest_optimizer_estimator(x_train_std, y_train)"
   ]
  },
  {
   "cell_type": "code",
   "execution_count": 47,
   "metadata": {},
   "outputs": [
    {
     "data": {
      "text/plain": [
       "array([0.95217391, 0.95081522, 0.95054348, 0.9513587 , 0.95271739,\n",
       "       0.95190217, 0.95163043, 0.95163043, 0.95217391, 0.95244565,\n",
       "       0.95190217, 0.95217391, 0.95217391, 0.95271739, 0.95190217,\n",
       "       0.95217391, 0.95217391, 0.95271739, 0.95190217, 0.95217391,\n",
       "       0.95217391, 0.95271739, 0.95190217, 0.95217391])"
      ]
     },
     "execution_count": 47,
     "metadata": {},
     "output_type": "execute_result"
    }
   ],
   "source": [
    "grid_rf.cv_results_[\"mean_test_score\"]"
   ]
  },
  {
   "cell_type": "code",
   "execution_count": 48,
   "metadata": {},
   "outputs": [
    {
     "name": "stdout",
     "output_type": "stream",
     "text": [
      "Average KFold cross validation accuracy:  0.9527173913043478\n",
      "Optimal Parameters:  {'max_depth': 35, 'n_estimators': 200}\n"
     ]
    }
   ],
   "source": [
    "grid_rf_accuracy = grid_rf.best_score_\n",
    "grid_rf_param = grid_rf.best_params_\n",
    "print(\"Average KFold cross validation accuracy: \" , grid_rf_accuracy)\n",
    "print(\"Optimal Parameters: \", grid_rf_param)"
   ]
  },
  {
   "cell_type": "code",
   "execution_count": 49,
   "metadata": {},
   "outputs": [],
   "source": [
    "model_forest = RandomForestClassifier(max_depth = 35, n_estimators = 200, n_jobs = -1)\n",
    "model_forest.fit(x_train_std, y_train)\n",
    "\n",
    "y_pred_train_rf = model_forest.predict(x_train_std)\n",
    "train_accuracy_rf = accuracy_score(y_train, y_pred_train_rf)\n",
    "\n",
    "y_pred_test_rf = model_forest.predict(x_test_std)\n",
    "test_accuracy_rf = accuracy_score(y_test, y_pred_test_rf)"
   ]
  },
  {
   "cell_type": "code",
   "execution_count": 50,
   "metadata": {},
   "outputs": [
    {
     "name": "stdout",
     "output_type": "stream",
     "text": [
      "RandomForest -----> Training accuracy: 0.999457,  Test accuracy: 0.955483\n"
     ]
    }
   ],
   "source": [
    "print('RandomForest -----> Training accuracy: %f,  Test accuracy: %f' % (train_accuracy_rf, test_accuracy_rf))"
   ]
  },
  {
   "cell_type": "code",
   "execution_count": 51,
   "metadata": {},
   "outputs": [
    {
     "name": "stdout",
     "output_type": "stream",
     "text": [
      "             precision    recall  f1-score   support\n",
      "\n",
      "        0.0       0.96      0.97      0.96       558\n",
      "        1.0       0.95      0.94      0.94       363\n",
      "\n",
      "avg / total       0.96      0.96      0.96       921\n",
      "\n"
     ]
    }
   ],
   "source": [
    "print(classification_report(y_test, y_pred_test_rf))"
   ]
  },
  {
   "cell_type": "code",
   "execution_count": 52,
   "metadata": {},
   "outputs": [],
   "source": [
    "tn_rf, fp_rf, fn_rf, tp_rf = confusion_matrix(y_test, y_pred_test_rf).ravel()"
   ]
  },
  {
   "cell_type": "code",
   "execution_count": 53,
   "metadata": {},
   "outputs": [
    {
     "name": "stdout",
     "output_type": "stream",
     "text": [
      "19 22\n"
     ]
    }
   ],
   "source": [
    "print(fp_rf, fn_rf)"
   ]
  },
  {
   "cell_type": "code",
   "execution_count": 54,
   "metadata": {},
   "outputs": [
    {
     "name": "stdout",
     "output_type": "stream",
     "text": [
      "539 341\n"
     ]
    }
   ],
   "source": [
    "print(tn_rf, tp_rf)"
   ]
  },
  {
   "cell_type": "code",
   "execution_count": 55,
   "metadata": {},
   "outputs": [],
   "source": [
    "\"\"\"Do Kfold cross validation here\"\"\"\n",
    "kf_rf = KFold(n_splits = 10, random_state = 0)\n",
    "\n",
    "train_accuracy_compile = []\n",
    "test_accuracy_compile = []\n",
    "fp_compile = []\n",
    "fn_compile = []\n",
    "for train_index, test_index in kf_rf.split(x_train_std):\n",
    "    \"\"\"Model instantiation\"\"\"\n",
    "    model_rf_cv = RandomForestClassifier(max_depth = 35, n_estimators = 200, n_jobs = -1)\n",
    "    \"\"\"Split data into train and test of cross validation\"\"\"\n",
    "    x_train_std_cv, x_test_std_cv = x_train_std[train_index], x_train_std[test_index]\n",
    "    y_train_cv, y_test_cv = y_train[train_index], y_train[test_index]\n",
    "    model_rf_cv.fit(x_train_std_cv, y_train_cv)\n",
    "    \n",
    "    \"\"\"Get training and test accuracy of cross validation\"\"\"\n",
    "    y_pred_train_cv_rf = model_rf_cv.predict(x_train_std_cv)\n",
    "    y_pred_test_cv_rf = model_rf_cv.predict(x_test_std_cv)\n",
    "    \n",
    "    test_size = len(y_test_cv)\n",
    "    \n",
    "    \"\"\"Get train accuracy, test accuracy and false positive/negative rates compiled\"\"\"\n",
    "    train_accuracy_cv_rf = accuracy_score(y_pred_train_cv_rf, y_train_cv)\n",
    "    test_accuracy_cv_rf = accuracy_score(y_pred_test_cv_rf, y_test_cv) \n",
    "    tn_cv_rf, fp_cv_rf, fn_cv_rf, tp_cv_rf = confusion_matrix(y_test_cv, y_pred_test_cv_rf).ravel()\n",
    "    \n",
    "    \"\"\"Compile results\"\"\"\n",
    "    train_accuracy_compile.append(train_accuracy_cv_rf)\n",
    "    test_accuracy_compile.append(test_accuracy_cv_rf)\n",
    "    fp_compile.append(fp_cv_rf / test_size)\n",
    "    fn_compile.append(fn_cv_rf / test_size)\n",
    "    \n",
    "cross_val_result_rf = np.array([train_accuracy_compile, test_accuracy_compile, fp_compile, fn_compile])\n",
    "\n",
    "\"\"\"Form indices\"\"\"\n",
    "index_array = []\n",
    "for i in range(10):\n",
    "    index_array.append(\"CV \" + str(i + 1))\n",
    "\n",
    "avg_train_accuracy, avg_test_accuracy, avg_fp, avg_fn  = np.mean(train_accuracy_compile), np.mean(test_accuracy_compile), np.mean(fp_compile), np.mean(fn_compile)\n",
    "avg_df = pd.DataFrame([[avg_train_accuracy, avg_test_accuracy, avg_fp, avg_fn]], index = ['Avg CV Rate'], columns = ['Train accuracy', 'Test accuracy', 'False Positive Rate', 'False Negative Rate'])\n",
    "\n",
    "\n",
    "cross_val_result_rf_df = pd.DataFrame(cross_val_result_rf.T, index = index_array, columns = ['Train accuracy', 'Test accuracy', 'False Positive Rate', 'False Negative Rate'])\n",
    "cross_val_result_rf_df= pd.concat([cross_val_result_rf_df, avg_df])"
   ]
  },
  {
   "cell_type": "markdown",
   "metadata": {},
   "source": [
    "### 6-4) XGBoost"
   ]
  },
  {
   "cell_type": "code",
   "execution_count": 56,
   "metadata": {},
   "outputs": [],
   "source": [
    "def xgboost_optimizer_estimator(dfX, dfY):\n",
    "    '''This function is used to optimize the xgboost parameters using GridSearchCV from Scikit-learn'''\n",
    "    model_xgb = xgboost.XGBClassifier(nthread = -1)\n",
    "    parameters = {'max_depth': [5, 7, 9, 11, 13], 'n_estimators': [200, 300, 400, 500]}\n",
    "    \n",
    "    gs = GridSearchCV(estimator = model_xgb, param_grid = parameters, scoring = 'accuracy', cv = 10, n_jobs = -1)\n",
    "    %time gs = gs.fit(dfX, dfY)\n",
    "    return gs"
   ]
  },
  {
   "cell_type": "code",
   "execution_count": 57,
   "metadata": {},
   "outputs": [
    {
     "name": "stdout",
     "output_type": "stream",
     "text": [
      "Wall time: 1min 23s\n",
      "Wall time: 1min 23s\n"
     ]
    }
   ],
   "source": [
    "%%time\n",
    "grid_xg = xgboost_optimizer_estimator(x_train_std, y_train)"
   ]
  },
  {
   "cell_type": "code",
   "execution_count": 58,
   "metadata": {},
   "outputs": [
    {
     "name": "stdout",
     "output_type": "stream",
     "text": [
      "Average KFold cross validation accuracy:  0.9570652173913043\n",
      "Optimal Parameters:  {'max_depth': 11, 'n_estimators': 200}\n"
     ]
    }
   ],
   "source": [
    "grid_xg_accuracy = grid_xg.best_score_\n",
    "grid_xg_param = grid_xg.best_params_\n",
    "print(\"Average KFold cross validation accuracy: \", grid_xg_accuracy)\n",
    "print(\"Optimal Parameters: \", grid_xg_param)"
   ]
  },
  {
   "cell_type": "code",
   "execution_count": 59,
   "metadata": {},
   "outputs": [],
   "source": [
    "model_xgb = xgboost.XGBClassifier(max_depth = 11, n_estimators = 200, nthread = -1)\n",
    "model_xgb.fit(x_train_std, y_train)\n",
    "\n",
    "y_pred_train_xg = model_xgb.predict(x_train_std)\n",
    "train_accuracy_xg = accuracy_score(y_train, y_pred_train_xg)\n",
    "\n",
    "y_pred_test_xg = model_xgb.predict(x_test_std)\n",
    "test_accuracy_xg = accuracy_score(y_test, y_pred_test_xg)"
   ]
  },
  {
   "cell_type": "code",
   "execution_count": 60,
   "metadata": {},
   "outputs": [
    {
     "name": "stdout",
     "output_type": "stream",
     "text": [
      "XGBoost -----> Training accuracy: 0.999185,  Test accuracy: 0.963084\n"
     ]
    }
   ],
   "source": [
    "print('XGBoost -----> Training accuracy: %f,  Test accuracy: %f' % (train_accuracy_xg, test_accuracy_xg))"
   ]
  },
  {
   "cell_type": "code",
   "execution_count": 61,
   "metadata": {},
   "outputs": [
    {
     "name": "stdout",
     "output_type": "stream",
     "text": [
      "             precision    recall  f1-score   support\n",
      "\n",
      "        0.0       0.98      0.96      0.97       558\n",
      "        1.0       0.94      0.96      0.95       363\n",
      "\n",
      "avg / total       0.96      0.96      0.96       921\n",
      "\n"
     ]
    }
   ],
   "source": [
    "print(classification_report(y_test, y_pred_test_xg))"
   ]
  },
  {
   "cell_type": "code",
   "execution_count": 62,
   "metadata": {},
   "outputs": [],
   "source": [
    "tn_xg, fp_xg, fn_xg, tp_xg = confusion_matrix(y_test, y_pred_test_xg).ravel()"
   ]
  },
  {
   "cell_type": "code",
   "execution_count": 63,
   "metadata": {},
   "outputs": [
    {
     "name": "stdout",
     "output_type": "stream",
     "text": [
      "21 13\n"
     ]
    }
   ],
   "source": [
    "print(fp_xg, fn_xg)"
   ]
  },
  {
   "cell_type": "code",
   "execution_count": 64,
   "metadata": {},
   "outputs": [
    {
     "name": "stdout",
     "output_type": "stream",
     "text": [
      "537 350\n"
     ]
    }
   ],
   "source": [
    "print(tn_xg, tp_xg)"
   ]
  },
  {
   "cell_type": "code",
   "execution_count": 65,
   "metadata": {},
   "outputs": [],
   "source": [
    "\"\"\"Do Kfold cross validation here\"\"\"\n",
    "kf_xg = KFold(n_splits = 10, random_state = 0)\n",
    "\n",
    "train_accuracy_compile = []\n",
    "test_accuracy_compile = []\n",
    "fp_compile = []\n",
    "fn_compile = []\n",
    "for train_index, test_index in kf_xg.split(x_train_std):\n",
    "    \"\"\"Model instantiation\"\"\"\n",
    "    model_xg_cv = xgboost.XGBClassifier(max_depth = 11, n_estimators = 200, nthread = -1)\n",
    "    \"\"\"Split data into train and test of cross validation\"\"\"\n",
    "    x_train_std_cv, x_test_std_cv = x_train_std[train_index], x_train_std[test_index]\n",
    "    y_train_cv, y_test_cv = y_train[train_index], y_train[test_index]\n",
    "    model_xg_cv.fit(x_train_std_cv, y_train_cv)\n",
    "    \n",
    "    \"\"\"Get training and test accuracy of cross validation\"\"\"\n",
    "    y_pred_train_cv_xg = model_xg_cv.predict(x_train_std_cv)\n",
    "    y_pred_test_cv_xg = model_xg_cv.predict(x_test_std_cv)\n",
    "    \n",
    "    test_size = len(y_test_cv)\n",
    "    \n",
    "    \"\"\"Get train accuracy, test accuracy and false positive/negative rates compiled\"\"\"\n",
    "    train_accuracy_cv_xg = accuracy_score(y_pred_train_cv_xg, y_train_cv)\n",
    "    test_accuracy_cv_xg = accuracy_score(y_pred_test_cv_xg, y_test_cv) \n",
    "    tn_cv_xg, fp_cv_xg, fn_cv_xg, tp_cv_xg = confusion_matrix(y_test_cv, y_pred_test_cv_xg).ravel()\n",
    "    \n",
    "    \"\"\"Compile results\"\"\"\n",
    "    train_accuracy_compile.append(train_accuracy_cv_xg)\n",
    "    test_accuracy_compile.append(test_accuracy_cv_xg)\n",
    "    fp_compile.append(fp_cv_xg / test_size)\n",
    "    fn_compile.append(fn_cv_xg / test_size)\n",
    "    \n",
    "cross_val_result_xg = np.array([train_accuracy_compile, test_accuracy_compile, fp_compile, fn_compile])\n",
    "\n",
    "\"\"\"Form indices\"\"\"\n",
    "index_array = []\n",
    "for i in range(10):\n",
    "    index_array.append(\"CV \" + str(i + 1))\n",
    "\n",
    "avg_train_accuracy, avg_test_accuracy, avg_fp, avg_fn  = np.mean(train_accuracy_compile), np.mean(test_accuracy_compile), np.mean(fp_compile), np.mean(fn_compile)\n",
    "avg_df = pd.DataFrame([[avg_train_accuracy, avg_test_accuracy, avg_fp, avg_fn]], index = ['Avg CV Rate'], columns = ['Train accuracy', 'Test accuracy', 'False Positive Rate', 'False Negative Rate'])\n",
    "\n",
    "\n",
    "cross_val_result_xg_df = pd.DataFrame(cross_val_result_xg.T, index = index_array, columns = ['Train accuracy', 'Test accuracy', 'False Positive Rate', 'False Negative Rate'])\n",
    "cross_val_result_xg_df = pd.concat([cross_val_result_xg_df, avg_df])"
   ]
  },
  {
   "cell_type": "markdown",
   "metadata": {},
   "source": [
    "## 7) Result Analysis and Feature Importance\n",
    "\n",
    "Random Forest allows us to do features analysis known as Feature Importance which indicates which features contained most relevant information in performing the binary classification"
   ]
  },
  {
   "cell_type": "markdown",
   "metadata": {},
   "source": [
    "### 7-1) Feature Importance"
   ]
  },
  {
   "cell_type": "code",
   "execution_count": 66,
   "metadata": {},
   "outputs": [
    {
     "name": "stdout",
     "output_type": "stream",
     "text": [
      " 1 51                             0.119212\n",
      " 2 52                             0.089287\n",
      " 3 6                              0.078154\n",
      " 4 54                             0.068567\n",
      " 5 15                             0.064192\n",
      " 6 20                             0.056681\n",
      " 7 55                             0.054271\n",
      " 8 56                             0.045823\n",
      " 9 24                             0.044986\n",
      "10 23                             0.034422\n",
      "11 4                              0.033591\n",
      "12 18                             0.028624\n",
      "13 22                             0.024606\n",
      "14 26                             0.020966\n",
      "15 45                             0.019050\n",
      "16 25                             0.017762\n",
      "17 36                             0.013510\n",
      "18 16                             0.013299\n",
      "19 7                              0.012582\n",
      "20 49                             0.012321\n",
      "21 11                             0.011180\n",
      "22 2                              0.010773\n",
      "23 44                             0.010050\n",
      "24 10                             0.009502\n",
      "25 17                             0.008428\n",
      "26 9                              0.008301\n",
      "27 5                              0.007104\n",
      "28 27                             0.005873\n",
      "29 19                             0.005854\n",
      "30 48                             0.005367\n"
     ]
    },
    {
     "data": {
      "image/png": "[encoded data removed]",
      "text/plain": [
       "<Figure size 648x504 with 1 Axes>"
      ]
     },
     "metadata": {},
     "output_type": "display_data"
    }
   ],
   "source": [
    "\"\"\"Feature Importance via Random Forest\"\"\"\n",
    "feat_labels = np.array(data_array_df.columns)\n",
    "forest = RandomForestClassifier(n_estimators=1000, random_state=0, n_jobs = 3)\n",
    "forest.fit(x_train_std, y_train)\n",
    "\n",
    "importances = forest.feature_importances_\n",
    "indices = np.argsort(importances)[::-1]\n",
    "indices = indices[:30]\n",
    "\n",
    "for f in range(len(indices)):\n",
    "    print(\"%2d %-*s %f\" % (f + 1, 30, feat_labels[indices[f]], importances[indices[f]] ))\n",
    "\n",
    "plt.figure(figsize = (9, 7))\n",
    "plt.title(\"Feature importances\")\n",
    "plt.bar(range(len(indices)), importances[indices])\n",
    "plt.xticks(range(len(indices)), feat_labels[indices], rotation=90)\n",
    "plt.tight_layout()\n",
    "plt.show()"
   ]
  },
  {
   "cell_type": "markdown",
   "metadata": {},
   "source": [
    "#### Feature importance analysis\n",
    "\n",
    "* It appears that features 51 and 52 which represent the frequency of certain character are important \n",
    "* As for indididual words, words 6 and 15 were strong indicators for distinguishing spam and non-spams\n",
    "* Average length of uninterrupted sequences of capital letters, represented by feature 54, had more importance compared to length of the longest or total number of capital letters in an email"
   ]
  },
  {
   "cell_type": "markdown",
   "metadata": {},
   "source": [
    "### 7-2) Cross Vadliation and Train-Test results\n",
    "\n",
    "Just to note, the results using KFold cross validation and regular train/test data split are presented here for comparsion."
   ]
  },
  {
   "cell_type": "code",
   "execution_count": 67,
   "metadata": {},
   "outputs": [],
   "source": [
    "result_table = [[fp_lr / len(y_test), fn_lr / len(y_test), test_accuracy_lr, grid_lr_accuracy], [fp_NB / len(y_test), fn_NB / len(y_test), test_accuracy_NB, \"N/A\"], [fp_rf / len(y_test), fn_rf / len(y_test), test_accuracy_rf, grid_rf_accuracy], [fp_xg / len(y_test), fn_xg / len(y_test), test_accuracy_xg, grid_xg_accuracy]]\n",
    "result_table_df = pd.DataFrame(result_table, index = ['Logistic Regression', 'Naive Bayesian', 'Random Forest', 'XGBoost'], columns = ['False Positive', 'False Negative', 'Test Data Accuracy', 'Avg KFold Accuracy with GridSearch'])"
   ]
  },
  {
   "cell_type": "markdown",
   "metadata": {},
   "source": [
    "#### Cross Validation Result using Logistic Regression"
   ]
  },
  {
   "cell_type": "code",
   "execution_count": 68,
   "metadata": {},
   "outputs": [
    {
     "data": {
      "text/html": [
       "<div>\n",
       "<style scoped>\n",
       "    .dataframe tbody tr th:only-of-type {\n",
       "        vertical-align: middle;\n",
       "    }\n",
       "\n",
       "    .dataframe tbody tr th {\n",
       "        vertical-align: top;\n",
       "    }\n",
       "\n",
       "    .dataframe thead th {\n",
       "        text-align: right;\n",
       "    }\n",
       "</style>\n",
       "<table border=\"1\" class=\"dataframe\">\n",
       "  <thead>\n",
       "    <tr style=\"text-align: right;\">\n",
       "      <th></th>\n",
       "      <th>Train accuracy</th>\n",
       "      <th>Test accuracy</th>\n",
       "      <th>False Positive Rate</th>\n",
       "      <th>False Negative Rate</th>\n",
       "    </tr>\n",
       "  </thead>\n",
       "  <tbody>\n",
       "    <tr>\n",
       "      <th>CV 1</th>\n",
       "      <td>0.936292</td>\n",
       "      <td>0.899457</td>\n",
       "      <td>0.035326</td>\n",
       "      <td>0.065217</td>\n",
       "    </tr>\n",
       "    <tr>\n",
       "      <th>CV 2</th>\n",
       "      <td>0.932367</td>\n",
       "      <td>0.945652</td>\n",
       "      <td>0.021739</td>\n",
       "      <td>0.032609</td>\n",
       "    </tr>\n",
       "    <tr>\n",
       "      <th>CV 3</th>\n",
       "      <td>0.931763</td>\n",
       "      <td>0.921196</td>\n",
       "      <td>0.040761</td>\n",
       "      <td>0.038043</td>\n",
       "    </tr>\n",
       "    <tr>\n",
       "      <th>CV 4</th>\n",
       "      <td>0.933877</td>\n",
       "      <td>0.921196</td>\n",
       "      <td>0.024457</td>\n",
       "      <td>0.054348</td>\n",
       "    </tr>\n",
       "    <tr>\n",
       "      <th>CV 5</th>\n",
       "      <td>0.934179</td>\n",
       "      <td>0.926630</td>\n",
       "      <td>0.035326</td>\n",
       "      <td>0.038043</td>\n",
       "    </tr>\n",
       "    <tr>\n",
       "      <th>CV 6</th>\n",
       "      <td>0.937198</td>\n",
       "      <td>0.932065</td>\n",
       "      <td>0.032609</td>\n",
       "      <td>0.035326</td>\n",
       "    </tr>\n",
       "    <tr>\n",
       "      <th>CV 7</th>\n",
       "      <td>0.935085</td>\n",
       "      <td>0.934783</td>\n",
       "      <td>0.016304</td>\n",
       "      <td>0.048913</td>\n",
       "    </tr>\n",
       "    <tr>\n",
       "      <th>CV 8</th>\n",
       "      <td>0.934783</td>\n",
       "      <td>0.932065</td>\n",
       "      <td>0.024457</td>\n",
       "      <td>0.043478</td>\n",
       "    </tr>\n",
       "    <tr>\n",
       "      <th>CV 9</th>\n",
       "      <td>0.936896</td>\n",
       "      <td>0.934783</td>\n",
       "      <td>0.038043</td>\n",
       "      <td>0.027174</td>\n",
       "    </tr>\n",
       "    <tr>\n",
       "      <th>CV 10</th>\n",
       "      <td>0.938406</td>\n",
       "      <td>0.926630</td>\n",
       "      <td>0.032609</td>\n",
       "      <td>0.040761</td>\n",
       "    </tr>\n",
       "    <tr>\n",
       "      <th>Avg CV Rate</th>\n",
       "      <td>0.935085</td>\n",
       "      <td>0.927446</td>\n",
       "      <td>0.030163</td>\n",
       "      <td>0.042391</td>\n",
       "    </tr>\n",
       "  </tbody>\n",
       "</table>\n",
       "</div>"
      ],
      "text/plain": [
       "             Train accuracy  Test accuracy  False Positive Rate  \\\n",
       "CV 1               0.936292       0.899457             0.035326   \n",
       "CV 2               0.932367       0.945652             0.021739   \n",
       "CV 3               0.931763       0.921196             0.040761   \n",
       "CV 4               0.933877       0.921196             0.024457   \n",
       "CV 5               0.934179       0.926630             0.035326   \n",
       "CV 6               0.937198       0.932065             0.032609   \n",
       "CV 7               0.935085       0.934783             0.016304   \n",
       "CV 8               0.934783       0.932065             0.024457   \n",
       "CV 9               0.936896       0.934783             0.038043   \n",
       "CV 10              0.938406       0.926630             0.032609   \n",
       "Avg CV Rate        0.935085       0.927446             0.030163   \n",
       "\n",
       "             False Negative Rate  \n",
       "CV 1                    0.065217  \n",
       "CV 2                    0.032609  \n",
       "CV 3                    0.038043  \n",
       "CV 4                    0.054348  \n",
       "CV 5                    0.038043  \n",
       "CV 6                    0.035326  \n",
       "CV 7                    0.048913  \n",
       "CV 8                    0.043478  \n",
       "CV 9                    0.027174  \n",
       "CV 10                   0.040761  \n",
       "Avg CV Rate             0.042391  "
      ]
     },
     "execution_count": 68,
     "metadata": {},
     "output_type": "execute_result"
    }
   ],
   "source": [
    "cross_val_result_lr_df"
   ]
  },
  {
   "cell_type": "markdown",
   "metadata": {},
   "source": [
    "#### Cross Validation Result using Naive Bayesian"
   ]
  },
  {
   "cell_type": "code",
   "execution_count": 69,
   "metadata": {},
   "outputs": [
    {
     "data": {
      "text/html": [
       "<div>\n",
       "<style scoped>\n",
       "    .dataframe tbody tr th:only-of-type {\n",
       "        vertical-align: middle;\n",
       "    }\n",
       "\n",
       "    .dataframe tbody tr th {\n",
       "        vertical-align: top;\n",
       "    }\n",
       "\n",
       "    .dataframe thead th {\n",
       "        text-align: right;\n",
       "    }\n",
       "</style>\n",
       "<table border=\"1\" class=\"dataframe\">\n",
       "  <thead>\n",
       "    <tr style=\"text-align: right;\">\n",
       "      <th></th>\n",
       "      <th>Train accuracy</th>\n",
       "      <th>Test accuracy</th>\n",
       "      <th>False Positive Rate</th>\n",
       "      <th>False Negative Rate</th>\n",
       "    </tr>\n",
       "  </thead>\n",
       "  <tbody>\n",
       "    <tr>\n",
       "      <th>CV 1</th>\n",
       "      <td>0.821256</td>\n",
       "      <td>0.796196</td>\n",
       "      <td>0.182065</td>\n",
       "      <td>0.021739</td>\n",
       "    </tr>\n",
       "    <tr>\n",
       "      <th>CV 2</th>\n",
       "      <td>0.819746</td>\n",
       "      <td>0.817935</td>\n",
       "      <td>0.160326</td>\n",
       "      <td>0.021739</td>\n",
       "    </tr>\n",
       "    <tr>\n",
       "      <th>CV 3</th>\n",
       "      <td>0.815821</td>\n",
       "      <td>0.834239</td>\n",
       "      <td>0.157609</td>\n",
       "      <td>0.008152</td>\n",
       "    </tr>\n",
       "    <tr>\n",
       "      <th>CV 4</th>\n",
       "      <td>0.817331</td>\n",
       "      <td>0.853261</td>\n",
       "      <td>0.130435</td>\n",
       "      <td>0.016304</td>\n",
       "    </tr>\n",
       "    <tr>\n",
       "      <th>CV 5</th>\n",
       "      <td>0.814312</td>\n",
       "      <td>0.826087</td>\n",
       "      <td>0.160326</td>\n",
       "      <td>0.013587</td>\n",
       "    </tr>\n",
       "    <tr>\n",
       "      <th>CV 6</th>\n",
       "      <td>0.821256</td>\n",
       "      <td>0.798913</td>\n",
       "      <td>0.184783</td>\n",
       "      <td>0.016304</td>\n",
       "    </tr>\n",
       "    <tr>\n",
       "      <th>CV 7</th>\n",
       "      <td>0.821860</td>\n",
       "      <td>0.812500</td>\n",
       "      <td>0.165761</td>\n",
       "      <td>0.021739</td>\n",
       "    </tr>\n",
       "    <tr>\n",
       "      <th>CV 8</th>\n",
       "      <td>0.819143</td>\n",
       "      <td>0.809783</td>\n",
       "      <td>0.168478</td>\n",
       "      <td>0.021739</td>\n",
       "    </tr>\n",
       "    <tr>\n",
       "      <th>CV 9</th>\n",
       "      <td>0.825181</td>\n",
       "      <td>0.774457</td>\n",
       "      <td>0.195652</td>\n",
       "      <td>0.029891</td>\n",
       "    </tr>\n",
       "    <tr>\n",
       "      <th>CV 10</th>\n",
       "      <td>0.816123</td>\n",
       "      <td>0.831522</td>\n",
       "      <td>0.152174</td>\n",
       "      <td>0.016304</td>\n",
       "    </tr>\n",
       "    <tr>\n",
       "      <th>Avg CV Rate</th>\n",
       "      <td>0.819203</td>\n",
       "      <td>0.815489</td>\n",
       "      <td>0.165761</td>\n",
       "      <td>0.018750</td>\n",
       "    </tr>\n",
       "  </tbody>\n",
       "</table>\n",
       "</div>"
      ],
      "text/plain": [
       "             Train accuracy  Test accuracy  False Positive Rate  \\\n",
       "CV 1               0.821256       0.796196             0.182065   \n",
       "CV 2               0.819746       0.817935             0.160326   \n",
       "CV 3               0.815821       0.834239             0.157609   \n",
       "CV 4               0.817331       0.853261             0.130435   \n",
       "CV 5               0.814312       0.826087             0.160326   \n",
       "CV 6               0.821256       0.798913             0.184783   \n",
       "CV 7               0.821860       0.812500             0.165761   \n",
       "CV 8               0.819143       0.809783             0.168478   \n",
       "CV 9               0.825181       0.774457             0.195652   \n",
       "CV 10              0.816123       0.831522             0.152174   \n",
       "Avg CV Rate        0.819203       0.815489             0.165761   \n",
       "\n",
       "             False Negative Rate  \n",
       "CV 1                    0.021739  \n",
       "CV 2                    0.021739  \n",
       "CV 3                    0.008152  \n",
       "CV 4                    0.016304  \n",
       "CV 5                    0.013587  \n",
       "CV 6                    0.016304  \n",
       "CV 7                    0.021739  \n",
       "CV 8                    0.021739  \n",
       "CV 9                    0.029891  \n",
       "CV 10                   0.016304  \n",
       "Avg CV Rate             0.018750  "
      ]
     },
     "execution_count": 69,
     "metadata": {},
     "output_type": "execute_result"
    }
   ],
   "source": [
    "cross_val_result_NB_df"
   ]
  },
  {
   "cell_type": "markdown",
   "metadata": {},
   "source": [
    "#### Cross Validation Result using Random Forest"
   ]
  },
  {
   "cell_type": "code",
   "execution_count": 70,
   "metadata": {},
   "outputs": [
    {
     "data": {
      "text/html": [
       "<div>\n",
       "<style scoped>\n",
       "    .dataframe tbody tr th:only-of-type {\n",
       "        vertical-align: middle;\n",
       "    }\n",
       "\n",
       "    .dataframe tbody tr th {\n",
       "        vertical-align: top;\n",
       "    }\n",
       "\n",
       "    .dataframe thead th {\n",
       "        text-align: right;\n",
       "    }\n",
       "</style>\n",
       "<table border=\"1\" class=\"dataframe\">\n",
       "  <thead>\n",
       "    <tr style=\"text-align: right;\">\n",
       "      <th></th>\n",
       "      <th>Train accuracy</th>\n",
       "      <th>Test accuracy</th>\n",
       "      <th>False Positive Rate</th>\n",
       "      <th>False Negative Rate</th>\n",
       "    </tr>\n",
       "  </thead>\n",
       "  <tbody>\n",
       "    <tr>\n",
       "      <th>CV 1</th>\n",
       "      <td>0.999698</td>\n",
       "      <td>0.940217</td>\n",
       "      <td>0.021739</td>\n",
       "      <td>0.038043</td>\n",
       "    </tr>\n",
       "    <tr>\n",
       "      <th>CV 2</th>\n",
       "      <td>0.999698</td>\n",
       "      <td>0.967391</td>\n",
       "      <td>0.016304</td>\n",
       "      <td>0.016304</td>\n",
       "    </tr>\n",
       "    <tr>\n",
       "      <th>CV 3</th>\n",
       "      <td>0.999396</td>\n",
       "      <td>0.953804</td>\n",
       "      <td>0.016304</td>\n",
       "      <td>0.029891</td>\n",
       "    </tr>\n",
       "    <tr>\n",
       "      <th>CV 4</th>\n",
       "      <td>0.999396</td>\n",
       "      <td>0.945652</td>\n",
       "      <td>0.008152</td>\n",
       "      <td>0.046196</td>\n",
       "    </tr>\n",
       "    <tr>\n",
       "      <th>CV 5</th>\n",
       "      <td>0.999094</td>\n",
       "      <td>0.961957</td>\n",
       "      <td>0.008152</td>\n",
       "      <td>0.029891</td>\n",
       "    </tr>\n",
       "    <tr>\n",
       "      <th>CV 6</th>\n",
       "      <td>0.999396</td>\n",
       "      <td>0.948370</td>\n",
       "      <td>0.021739</td>\n",
       "      <td>0.029891</td>\n",
       "    </tr>\n",
       "    <tr>\n",
       "      <th>CV 7</th>\n",
       "      <td>0.999698</td>\n",
       "      <td>0.948370</td>\n",
       "      <td>0.019022</td>\n",
       "      <td>0.032609</td>\n",
       "    </tr>\n",
       "    <tr>\n",
       "      <th>CV 8</th>\n",
       "      <td>0.999698</td>\n",
       "      <td>0.956522</td>\n",
       "      <td>0.013587</td>\n",
       "      <td>0.029891</td>\n",
       "    </tr>\n",
       "    <tr>\n",
       "      <th>CV 9</th>\n",
       "      <td>0.999396</td>\n",
       "      <td>0.951087</td>\n",
       "      <td>0.032609</td>\n",
       "      <td>0.016304</td>\n",
       "    </tr>\n",
       "    <tr>\n",
       "      <th>CV 10</th>\n",
       "      <td>0.999396</td>\n",
       "      <td>0.942935</td>\n",
       "      <td>0.021739</td>\n",
       "      <td>0.035326</td>\n",
       "    </tr>\n",
       "    <tr>\n",
       "      <th>Avg CV Rate</th>\n",
       "      <td>0.999487</td>\n",
       "      <td>0.951630</td>\n",
       "      <td>0.017935</td>\n",
       "      <td>0.030435</td>\n",
       "    </tr>\n",
       "  </tbody>\n",
       "</table>\n",
       "</div>"
      ],
      "text/plain": [
       "             Train accuracy  Test accuracy  False Positive Rate  \\\n",
       "CV 1               0.999698       0.940217             0.021739   \n",
       "CV 2               0.999698       0.967391             0.016304   \n",
       "CV 3               0.999396       0.953804             0.016304   \n",
       "CV 4               0.999396       0.945652             0.008152   \n",
       "CV 5               0.999094       0.961957             0.008152   \n",
       "CV 6               0.999396       0.948370             0.021739   \n",
       "CV 7               0.999698       0.948370             0.019022   \n",
       "CV 8               0.999698       0.956522             0.013587   \n",
       "CV 9               0.999396       0.951087             0.032609   \n",
       "CV 10              0.999396       0.942935             0.021739   \n",
       "Avg CV Rate        0.999487       0.951630             0.017935   \n",
       "\n",
       "             False Negative Rate  \n",
       "CV 1                    0.038043  \n",
       "CV 2                    0.016304  \n",
       "CV 3                    0.029891  \n",
       "CV 4                    0.046196  \n",
       "CV 5                    0.029891  \n",
       "CV 6                    0.029891  \n",
       "CV 7                    0.032609  \n",
       "CV 8                    0.029891  \n",
       "CV 9                    0.016304  \n",
       "CV 10                   0.035326  \n",
       "Avg CV Rate             0.030435  "
      ]
     },
     "execution_count": 70,
     "metadata": {},
     "output_type": "execute_result"
    }
   ],
   "source": [
    "cross_val_result_rf_df"
   ]
  },
  {
   "cell_type": "markdown",
   "metadata": {},
   "source": [
    "#### Cross Validation Result using XGBoost"
   ]
  },
  {
   "cell_type": "code",
   "execution_count": 71,
   "metadata": {},
   "outputs": [
    {
     "data": {
      "text/html": [
       "<div>\n",
       "<style scoped>\n",
       "    .dataframe tbody tr th:only-of-type {\n",
       "        vertical-align: middle;\n",
       "    }\n",
       "\n",
       "    .dataframe tbody tr th {\n",
       "        vertical-align: top;\n",
       "    }\n",
       "\n",
       "    .dataframe thead th {\n",
       "        text-align: right;\n",
       "    }\n",
       "</style>\n",
       "<table border=\"1\" class=\"dataframe\">\n",
       "  <thead>\n",
       "    <tr style=\"text-align: right;\">\n",
       "      <th></th>\n",
       "      <th>Train accuracy</th>\n",
       "      <th>Test accuracy</th>\n",
       "      <th>False Positive Rate</th>\n",
       "      <th>False Negative Rate</th>\n",
       "    </tr>\n",
       "  </thead>\n",
       "  <tbody>\n",
       "    <tr>\n",
       "      <th>CV 1</th>\n",
       "      <td>0.999396</td>\n",
       "      <td>0.937500</td>\n",
       "      <td>0.021739</td>\n",
       "      <td>0.040761</td>\n",
       "    </tr>\n",
       "    <tr>\n",
       "      <th>CV 2</th>\n",
       "      <td>0.999396</td>\n",
       "      <td>0.972826</td>\n",
       "      <td>0.016304</td>\n",
       "      <td>0.010870</td>\n",
       "    </tr>\n",
       "    <tr>\n",
       "      <th>CV 3</th>\n",
       "      <td>0.999094</td>\n",
       "      <td>0.967391</td>\n",
       "      <td>0.016304</td>\n",
       "      <td>0.016304</td>\n",
       "    </tr>\n",
       "    <tr>\n",
       "      <th>CV 4</th>\n",
       "      <td>0.999094</td>\n",
       "      <td>0.959239</td>\n",
       "      <td>0.008152</td>\n",
       "      <td>0.032609</td>\n",
       "    </tr>\n",
       "    <tr>\n",
       "      <th>CV 5</th>\n",
       "      <td>0.999094</td>\n",
       "      <td>0.967391</td>\n",
       "      <td>0.010870</td>\n",
       "      <td>0.021739</td>\n",
       "    </tr>\n",
       "    <tr>\n",
       "      <th>CV 6</th>\n",
       "      <td>0.999094</td>\n",
       "      <td>0.956522</td>\n",
       "      <td>0.027174</td>\n",
       "      <td>0.016304</td>\n",
       "    </tr>\n",
       "    <tr>\n",
       "      <th>CV 7</th>\n",
       "      <td>0.999396</td>\n",
       "      <td>0.961957</td>\n",
       "      <td>0.019022</td>\n",
       "      <td>0.019022</td>\n",
       "    </tr>\n",
       "    <tr>\n",
       "      <th>CV 8</th>\n",
       "      <td>0.999698</td>\n",
       "      <td>0.956522</td>\n",
       "      <td>0.019022</td>\n",
       "      <td>0.024457</td>\n",
       "    </tr>\n",
       "    <tr>\n",
       "      <th>CV 9</th>\n",
       "      <td>0.998792</td>\n",
       "      <td>0.940217</td>\n",
       "      <td>0.038043</td>\n",
       "      <td>0.021739</td>\n",
       "    </tr>\n",
       "    <tr>\n",
       "      <th>CV 10</th>\n",
       "      <td>0.999094</td>\n",
       "      <td>0.940217</td>\n",
       "      <td>0.029891</td>\n",
       "      <td>0.029891</td>\n",
       "    </tr>\n",
       "    <tr>\n",
       "      <th>Avg CV Rate</th>\n",
       "      <td>0.999215</td>\n",
       "      <td>0.955978</td>\n",
       "      <td>0.020652</td>\n",
       "      <td>0.023370</td>\n",
       "    </tr>\n",
       "  </tbody>\n",
       "</table>\n",
       "</div>"
      ],
      "text/plain": [
       "             Train accuracy  Test accuracy  False Positive Rate  \\\n",
       "CV 1               0.999396       0.937500             0.021739   \n",
       "CV 2               0.999396       0.972826             0.016304   \n",
       "CV 3               0.999094       0.967391             0.016304   \n",
       "CV 4               0.999094       0.959239             0.008152   \n",
       "CV 5               0.999094       0.967391             0.010870   \n",
       "CV 6               0.999094       0.956522             0.027174   \n",
       "CV 7               0.999396       0.961957             0.019022   \n",
       "CV 8               0.999698       0.956522             0.019022   \n",
       "CV 9               0.998792       0.940217             0.038043   \n",
       "CV 10              0.999094       0.940217             0.029891   \n",
       "Avg CV Rate        0.999215       0.955978             0.020652   \n",
       "\n",
       "             False Negative Rate  \n",
       "CV 1                    0.040761  \n",
       "CV 2                    0.010870  \n",
       "CV 3                    0.016304  \n",
       "CV 4                    0.032609  \n",
       "CV 5                    0.021739  \n",
       "CV 6                    0.016304  \n",
       "CV 7                    0.019022  \n",
       "CV 8                    0.024457  \n",
       "CV 9                    0.021739  \n",
       "CV 10                   0.029891  \n",
       "Avg CV Rate             0.023370  "
      ]
     },
     "execution_count": 71,
     "metadata": {},
     "output_type": "execute_result"
    }
   ],
   "source": [
    "cross_val_result_xg_df"
   ]
  },
  {
   "cell_type": "markdown",
   "metadata": {},
   "source": [
    "#### Results using train-test data split\n",
    "\n",
    "Naive Bayesian is missing the average KFold accuracy report with GridSearch because no GridSearch is performed on the model"
   ]
  },
  {
   "cell_type": "code",
   "execution_count": 72,
   "metadata": {},
   "outputs": [
    {
     "data": {
      "text/html": [
       "<div>\n",
       "<style scoped>\n",
       "    .dataframe tbody tr th:only-of-type {\n",
       "        vertical-align: middle;\n",
       "    }\n",
       "\n",
       "    .dataframe tbody tr th {\n",
       "        vertical-align: top;\n",
       "    }\n",
       "\n",
       "    .dataframe thead th {\n",
       "        text-align: right;\n",
       "    }\n",
       "</style>\n",
       "<table border=\"1\" class=\"dataframe\">\n",
       "  <thead>\n",
       "    <tr style=\"text-align: right;\">\n",
       "      <th></th>\n",
       "      <th>False Positive</th>\n",
       "      <th>False Negative</th>\n",
       "      <th>Test Data Accuracy</th>\n",
       "      <th>Avg KFold Accuracy with GridSearch</th>\n",
       "    </tr>\n",
       "  </thead>\n",
       "  <tbody>\n",
       "    <tr>\n",
       "      <th>Logistic Regression</th>\n",
       "      <td>0.034745</td>\n",
       "      <td>0.033659</td>\n",
       "      <td>0.931596</td>\n",
       "      <td>0.928261</td>\n",
       "    </tr>\n",
       "    <tr>\n",
       "      <th>Naive Bayesian</th>\n",
       "      <td>0.142237</td>\n",
       "      <td>0.013029</td>\n",
       "      <td>0.844734</td>\n",
       "      <td>N/A</td>\n",
       "    </tr>\n",
       "    <tr>\n",
       "      <th>Random Forest</th>\n",
       "      <td>0.020630</td>\n",
       "      <td>0.023887</td>\n",
       "      <td>0.955483</td>\n",
       "      <td>0.952717</td>\n",
       "    </tr>\n",
       "    <tr>\n",
       "      <th>XGBoost</th>\n",
       "      <td>0.022801</td>\n",
       "      <td>0.014115</td>\n",
       "      <td>0.963084</td>\n",
       "      <td>0.957065</td>\n",
       "    </tr>\n",
       "  </tbody>\n",
       "</table>\n",
       "</div>"
      ],
      "text/plain": [
       "                     False Positive  False Negative  Test Data Accuracy  \\\n",
       "Logistic Regression        0.034745        0.033659            0.931596   \n",
       "Naive Bayesian             0.142237        0.013029            0.844734   \n",
       "Random Forest              0.020630        0.023887            0.955483   \n",
       "XGBoost                    0.022801        0.014115            0.963084   \n",
       "\n",
       "                    Avg KFold Accuracy with GridSearch  \n",
       "Logistic Regression                           0.928261  \n",
       "Naive Bayesian                                     N/A  \n",
       "Random Forest                                 0.952717  \n",
       "XGBoost                                       0.957065  "
      ]
     },
     "execution_count": 72,
     "metadata": {},
     "output_type": "execute_result"
    }
   ],
   "source": [
    "result_table_df.head()"
   ]
  },
  {
   "cell_type": "markdown",
   "metadata": {},
   "source": [
    "#### Remarks\n",
    "\n",
    "* Naive Bayesian performed a bit worse than I expected. I'd like to see how it performs when we have dataset with larger number features where the assumption of Naive Bayes can become very useful\n",
    "* With introduction of nonlinearity in Random Forest and XGBoost, the results improve but Logistic Regression still does perform relatively well, which implies the data is actaully fairly linearly separable case. But, as usual, added nonlinearity always form more complex boundary conditions which often allow higher accuracy\n",
    "* As expected, XGBoost does perform a bit better than Random Forest but not by a significant margin. As noted above, the data is simple enough that simpler models are probably sufficient to reasonably separate the data into spam and non-spam\n",
    "* The results from cross vadliation are in accordance with simple train-test data split approach. This is expected since even the regular train-test approach went through a cross validation in hyperparameter tuning (except for Naive Bayes)"
   ]
  },
  {
   "cell_type": "markdown",
   "metadata": {},
   "source": [
    "## 8) Conclusion and Acknowledgment\n",
    "\n",
    "* In terms of pure accuracy score, XGBoost performed best overall\n",
    "\n",
    "\n",
    "* However, if I were to design a spam filter, I would be more concerned with false positive rate since you really do not want non-spams classified as spams. This does happen in real life though. People do get non-spam emails that get sent directly to junk because the email provider's spam filter recognizes it as a spam. In the current model, XGBoost has slightly better false negative performance while RandomForest has slightly better false positive performance (Not by significant margins though on both metrics)."
   ]
  },
  {
   "cell_type": "markdown",
   "metadata": {},
   "source": [
    "This assignment is carried out as part of application to Information Sciences Institute's research assistant position in the Summer of 2019"
   ]
  }
 ],
 "metadata": {
  "kernelspec": {
   "display_name": "Python 3",
   "language": "python",
   "name": "python3"
  },
  "language_info": {
   "codemirror_mode": {
    "name": "ipython",
    "version": 3
   },
   "file_extension": ".py",
   "mimetype": "text/x-python",
   "name": "python",
   "nbconvert_exporter": "python",
   "pygments_lexer": "ipython3",
   "version": "3.6.5"
  }
 },
 "nbformat": 4,
 "nbformat_minor": 2
}
